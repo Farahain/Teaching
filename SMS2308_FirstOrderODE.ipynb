{
 "cells": [
  {
   "cell_type": "markdown",
   "metadata": {
    "id": "Hc8hcvS8FG2u"
   },
   "source": [
    "For SMS 2308 Mathematical Methods\n",
    "\n",
    "Let us start with importing SymPy and Matplotlib.\n",
    "\n",
    "Prepared by Nurul Farahain Mohammad."
   ]
  },
  {
   "cell_type": "code",
   "execution_count": 1,
   "metadata": {
    "id": "mDJrvTWiFAto"
   },
   "outputs": [],
   "source": [
    "### for beautiful symbolic outputs ###\n",
    "from sympy.interactive import printing\n",
    "printing.init_printing(use_latex=True)\n",
    "\n",
    "from sympy import *"
   ]
  },
  {
   "cell_type": "markdown",
   "metadata": {
    "id": "_5c-7GEBGB2I"
   },
   "source": [
    "Now let us try to solve an IVP where\n",
    "\n",
    "\\begin{equation*}\n",
    "   \\frac{dy}{dx} = x^3 (1-y); \\hspace{0.3cm} y(0)=3. \n",
    "\\end{equation*}"
   ]
  },
  {
   "cell_type": "code",
   "execution_count": 2,
   "metadata": {
    "colab": {
     "base_uri": "https://localhost:8080/",
     "height": 52
    },
    "id": "hLDW6srSF0rO",
    "outputId": "6cd9960f-7c8a-4664-965e-43a5c9021ad2"
   },
   "outputs": [
    {
     "data": {
      "image/png": "[encoded data removed]",
      "text/latex": [
       "$\\displaystyle \\frac{d}{d x} y{\\left(x \\right)} = x^{3} \\left(1 - y{\\left(x \\right)}\\right)$"
      ],
      "text/plain": [
       "d           3           \n",
       "──(y(x)) = x ⋅(1 - y(x))\n",
       "dx                      "
      ]
     },
     "execution_count": 2,
     "metadata": {
      "tags": []
     },
     "output_type": "execute_result"
    }
   ],
   "source": [
    "x = symbols('x')\n",
    "y = Function('y')(x)\n",
    "\n",
    "ourequation = Eq(y.diff(x), (x**3)*(1-y))\n",
    "ourequation"
   ]
  },
  {
   "cell_type": "markdown",
   "metadata": {
    "id": "VQYumZ27HsTd"
   },
   "source": [
    "Check whether we put in our model correctly. <br>\n",
    "If yes, then we proceed with solving it."
   ]
  },
  {
   "cell_type": "code",
   "execution_count": 3,
   "metadata": {
    "colab": {
     "base_uri": "https://localhost:8080/",
     "height": 43
    },
    "id": "fALMBfoYG8dH",
    "outputId": "92547902-ae55-4e80-f416-157b0ee0c972"
   },
   "outputs": [
    {
     "data": {
      "image/png": "[encoded data removed]",
      "text/latex": [
       "$\\displaystyle y{\\left(x \\right)} = C_{1} e^{- \\frac{x^{4}}{4}} + 1$"
      ],
      "text/plain": [
       "             4     \n",
       "           -x      \n",
       "           ────    \n",
       "            4      \n",
       "y(x) = C₁⋅ℯ     + 1"
      ]
     },
     "execution_count": 3,
     "metadata": {
      "tags": []
     },
     "output_type": "execute_result"
    }
   ],
   "source": [
    "answer = dsolve(ourequation, y)\n",
    "answer"
   ]
  },
  {
   "cell_type": "markdown",
   "metadata": {
    "id": "JsQdalaJH9QK"
   },
   "source": [
    "Now, we have a general solution.\n",
    "To find the general solution using initial condition, let us run this."
   ]
  },
  {
   "cell_type": "code",
   "execution_count": 4,
   "metadata": {
    "colab": {
     "base_uri": "https://localhost:8080/",
     "height": 43
    },
    "id": "t8ErwYRKHOYT",
    "outputId": "46421c86-7a19-4a71-eb33-67625b288b7b"
   },
   "outputs": [
    {
     "data": {
      "image/png": "[encoded data removed]",
      "text/latex": [
       "$\\displaystyle 1 + 2 e^{- \\frac{x^{4}}{4}}$"
      ],
      "text/plain": [
       "         4 \n",
       "       -x  \n",
       "       ────\n",
       "        4  \n",
       "1 + 2⋅ℯ    "
      ]
     },
     "execution_count": 4,
     "metadata": {
      "tags": []
     },
     "output_type": "execute_result"
    }
   ],
   "source": [
    "sol = dsolve(ourequation, y).rhs\n",
    "constant = solve([sol.subs(x,0)-3])\n",
    "final_answer = sol.subs(constant)\n",
    "\n",
    "final_answer"
   ]
  },
  {
   "cell_type": "markdown",
   "metadata": {
    "id": "uDaMHWgiLxFz"
   },
   "source": [
    "It's time to plot our solution."
   ]
  },
  {
   "cell_type": "code",
   "execution_count": 5,
   "metadata": {
    "colab": {
     "base_uri": "https://localhost:8080/",
     "height": 315
    },
    "id": "Y9cjZMOUIx3e",
    "outputId": "b91c3aca-2480-4383-e437-05c5c9dab160"
   },
   "outputs": [
    {
     "data": {
      "image/png": "[encoded data removed]",
      "text/plain": [
       "<Figure size 432x288 with 1 Axes>"
      ]
     },
     "metadata": {
      "needs_background": "light",
      "tags": []
     },
     "output_type": "display_data"
    },
    {
     "data": {
      "text/plain": [
       "<sympy.plotting.plot.Plot at 0x7f65de3aef90>"
      ]
     },
     "execution_count": 5,
     "metadata": {
      "tags": []
     },
     "output_type": "execute_result"
    }
   ],
   "source": [
    "plot(final_answer, (x,0,7), xlabel='Time, x', ylabel='Population ,y')"
   ]
  }
 ],
 "metadata": {
  "colab": {
   "name": "FirstOrderODE.ipynb",
   "provenance": []
  },
  "kernelspec": {
   "display_name": "Python 3 (ipykernel)",
   "language": "python",
   "name": "python3"
  },
  "language_info": {
   "codemirror_mode": {
    "name": "ipython",
    "version": 3
   },
   "file_extension": ".py",
   "mimetype": "text/x-python",
   "name": "python",
   "nbconvert_exporter": "python",
   "pygments_lexer": "ipython3",
   "version": "3.8.8"
  },
  "toc": {
   "base_numbering": 1,
   "nav_menu": {},
   "number_sections": true,
   "sideBar": true,
   "skip_h1_title": true,
   "title_cell": "Table of Contents",
   "title_sidebar": "Contents",
   "toc_cell": false,
   "toc_position": {},
   "toc_section_display": true,
   "toc_window_display": true
  }
 },
 "nbformat": 4,
 "nbformat_minor": 1
}
