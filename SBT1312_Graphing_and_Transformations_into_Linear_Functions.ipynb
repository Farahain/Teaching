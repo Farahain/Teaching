{
  "nbformat": 4,
  "nbformat_minor": 0,
  "metadata": {
    "hide_input": false,
    "kernelspec": {
      "display_name": "Python 3",
      "language": "python",
      "name": "python3"
    },
    "language_info": {
      "codemirror_mode": {
        "name": "ipython",
        "version": 3
      },
      "file_extension": ".py",
      "mimetype": "text/x-python",
      "name": "python",
      "nbconvert_exporter": "python",
      "pygments_lexer": "ipython3",
      "version": "3.7.1"
    },
    "toc": {
      "base_numbering": 1,
      "nav_menu": {},
      "number_sections": true,
      "sideBar": true,
      "skip_h1_title": false,
      "title_cell": "Table of Contents",
      "title_sidebar": "Contents",
      "toc_cell": false,
      "toc_position": {},
      "toc_section_display": true,
      "toc_window_display": false
    },
    "colab": {
      "name": "Copy of SBT1312-Graphing-and-Transformations-into-Linear-Functions.ipynb",
      "provenance": [],
      "collapsed_sections": []
    },
    "widgets": {
      "application/vnd.jupyter.widget-state+json": {
        "8d210d9eddb24f23b3c23336e06ea48f": {
          "model_module": "@jupyter-widgets/controls",
          "model_name": "VBoxModel",
          "model_module_version": "1.5.0",
          "state": {
            "_view_name": "VBoxView",
            "_dom_classes": [
              "widget-interact"
            ],
            "_model_name": "VBoxModel",
            "_view_module": "@jupyter-widgets/controls",
            "_model_module_version": "1.5.0",
            "_view_count": null,
            "_view_module_version": "1.5.0",
            "box_style": "",
            "layout": "IPY_MODEL_e8cf9c1fb2d64b038842be343d0b2570",
            "_model_module": "@jupyter-widgets/controls",
            "children": [
              "IPY_MODEL_ae50b67065c14876b5b4215064d9938c",
              "IPY_MODEL_fb8696335cb2420c964f5b35507c55b5",
              "IPY_MODEL_4002ffbd98104a58bbe74e2b2f90c183",
              "IPY_MODEL_8fab4153c0124db49dfc8f56a79be5ae",
              "IPY_MODEL_6d4c8ac8206149d9a99520bb08401c06"
            ]
          }
        },
        "e8cf9c1fb2d64b038842be343d0b2570": {
          "model_module": "@jupyter-widgets/base",
          "model_name": "LayoutModel",
          "model_module_version": "1.2.0",
          "state": {
            "_view_name": "LayoutView",
            "grid_template_rows": null,
            "right": null,
            "justify_content": null,
            "_view_module": "@jupyter-widgets/base",
            "overflow": null,
            "_model_module_version": "1.2.0",
            "_view_count": null,
            "flex_flow": null,
            "width": null,
            "min_width": null,
            "border": null,
            "align_items": null,
            "bottom": null,
            "_model_module": "@jupyter-widgets/base",
            "top": null,
            "grid_column": null,
            "overflow_y": null,
            "overflow_x": null,
            "grid_auto_flow": null,
            "grid_area": null,
            "grid_template_columns": null,
            "flex": null,
            "_model_name": "LayoutModel",
            "justify_items": null,
            "grid_row": null,
            "max_height": null,
            "align_content": null,
            "visibility": null,
            "align_self": null,
            "height": null,
            "min_height": null,
            "padding": null,
            "grid_auto_rows": null,
            "grid_gap": null,
            "max_width": null,
            "order": null,
            "_view_module_version": "1.2.0",
            "grid_template_areas": null,
            "object_position": null,
            "object_fit": null,
            "grid_auto_columns": null,
            "margin": null,
            "display": null,
            "left": null
          }
        },
        "ae50b67065c14876b5b4215064d9938c": {
          "model_module": "@jupyter-widgets/controls",
          "model_name": "DropdownModel",
          "model_module_version": "1.5.0",
          "state": {
            "_options_labels": [
              "sin",
              "cos",
              "tan",
              "ln",
              "exponent"
            ],
            "_view_name": "DropdownView",
            "style": "IPY_MODEL_5b92faacf0c84856b7320d9343263aa0",
            "_dom_classes": [],
            "description": "f",
            "_model_name": "DropdownModel",
            "index": 0,
            "_view_module": "@jupyter-widgets/controls",
            "_model_module_version": "1.5.0",
            "_view_count": null,
            "disabled": false,
            "_view_module_version": "1.5.0",
            "description_tooltip": null,
            "_model_module": "@jupyter-widgets/controls",
            "layout": "IPY_MODEL_b68ebe64122a47aeaca42f8e8fd4040b"
          }
        },
        "fb8696335cb2420c964f5b35507c55b5": {
          "model_module": "@jupyter-widgets/controls",
          "model_name": "IntSliderModel",
          "model_module_version": "1.5.0",
          "state": {
            "_view_name": "IntSliderView",
            "style": "IPY_MODEL_5c6762b4dbf44cabbc26cb57ad987b92",
            "_dom_classes": [],
            "description": "c",
            "step": 1,
            "_model_name": "IntSliderModel",
            "orientation": "horizontal",
            "max": 5,
            "_view_module": "@jupyter-widgets/controls",
            "_model_module_version": "1.5.0",
            "value": 1,
            "_view_count": null,
            "disabled": false,
            "_view_module_version": "1.5.0",
            "min": -5,
            "continuous_update": true,
            "readout_format": "d",
            "description_tooltip": null,
            "readout": true,
            "_model_module": "@jupyter-widgets/controls",
            "layout": "IPY_MODEL_7901ddee671a4b6ea432344368471edb"
          }
        },
        "4002ffbd98104a58bbe74e2b2f90c183": {
          "model_module": "@jupyter-widgets/controls",
          "model_name": "IntSliderModel",
          "model_module_version": "1.5.0",
          "state": {
            "_view_name": "IntSliderView",
            "style": "IPY_MODEL_d9bd829fadfb4210b647c2503c43d0a4",
            "_dom_classes": [],
            "description": "A",
            "step": 1,
            "_model_name": "IntSliderModel",
            "orientation": "horizontal",
            "max": 5,
            "_view_module": "@jupyter-widgets/controls",
            "_model_module_version": "1.5.0",
            "value": 1,
            "_view_count": null,
            "disabled": false,
            "_view_module_version": "1.5.0",
            "min": -5,
            "continuous_update": true,
            "readout_format": "d",
            "description_tooltip": null,
            "readout": true,
            "_model_module": "@jupyter-widgets/controls",
            "layout": "IPY_MODEL_e85b5dff8fbb436fbca84683734480dc"
          }
        },
        "8fab4153c0124db49dfc8f56a79be5ae": {
          "model_module": "@jupyter-widgets/controls",
          "model_name": "FloatSliderModel",
          "model_module_version": "1.5.0",
          "state": {
            "_view_name": "FloatSliderView",
            "style": "IPY_MODEL_8700d2d3d5a54bc1b4251c4b39f2b06b",
            "_dom_classes": [],
            "description": "a",
            "step": 0.1,
            "_model_name": "FloatSliderModel",
            "orientation": "horizontal",
            "max": 5,
            "_view_module": "@jupyter-widgets/controls",
            "_model_module_version": "1.5.0",
            "value": 0,
            "_view_count": null,
            "disabled": false,
            "_view_module_version": "1.5.0",
            "min": -5,
            "continuous_update": true,
            "readout_format": ".2f",
            "description_tooltip": null,
            "readout": true,
            "_model_module": "@jupyter-widgets/controls",
            "layout": "IPY_MODEL_5fba68cc3a2444628b809ca13111f904"
          }
        },
        "6d4c8ac8206149d9a99520bb08401c06": {
          "model_module": "@jupyter-widgets/output",
          "model_name": "OutputModel",
          "model_module_version": "1.0.0",
          "state": {
            "_view_name": "OutputView",
            "msg_id": "",
            "_dom_classes": [],
            "_model_name": "OutputModel",
            "outputs": [],
            "_view_module": "@jupyter-widgets/output",
            "_model_module_version": "1.0.0",
            "_view_count": null,
            "_view_module_version": "1.0.0",
            "layout": "IPY_MODEL_a096466b846c4c4f865e20faf30ed2b5",
            "_model_module": "@jupyter-widgets/output"
          }
        },
        "5b92faacf0c84856b7320d9343263aa0": {
          "model_module": "@jupyter-widgets/controls",
          "model_name": "DescriptionStyleModel",
          "model_module_version": "1.5.0",
          "state": {
            "_view_name": "StyleView",
            "_model_name": "DescriptionStyleModel",
            "description_width": "",
            "_view_module": "@jupyter-widgets/base",
            "_model_module_version": "1.5.0",
            "_view_count": null,
            "_view_module_version": "1.2.0",
            "_model_module": "@jupyter-widgets/controls"
          }
        },
        "b68ebe64122a47aeaca42f8e8fd4040b": {
          "model_module": "@jupyter-widgets/base",
          "model_name": "LayoutModel",
          "model_module_version": "1.2.0",
          "state": {
            "_view_name": "LayoutView",
            "grid_template_rows": null,
            "right": null,
            "justify_content": null,
            "_view_module": "@jupyter-widgets/base",
            "overflow": null,
            "_model_module_version": "1.2.0",
            "_view_count": null,
            "flex_flow": null,
            "width": null,
            "min_width": null,
            "border": null,
            "align_items": null,
            "bottom": null,
            "_model_module": "@jupyter-widgets/base",
            "top": null,
            "grid_column": null,
            "overflow_y": null,
            "overflow_x": null,
            "grid_auto_flow": null,
            "grid_area": null,
            "grid_template_columns": null,
            "flex": null,
            "_model_name": "LayoutModel",
            "justify_items": null,
            "grid_row": null,
            "max_height": null,
            "align_content": null,
            "visibility": null,
            "align_self": null,
            "height": null,
            "min_height": null,
            "padding": null,
            "grid_auto_rows": null,
            "grid_gap": null,
            "max_width": null,
            "order": null,
            "_view_module_version": "1.2.0",
            "grid_template_areas": null,
            "object_position": null,
            "object_fit": null,
            "grid_auto_columns": null,
            "margin": null,
            "display": null,
            "left": null
          }
        },
        "5c6762b4dbf44cabbc26cb57ad987b92": {
          "model_module": "@jupyter-widgets/controls",
          "model_name": "SliderStyleModel",
          "model_module_version": "1.5.0",
          "state": {
            "_view_name": "StyleView",
            "handle_color": null,
            "_model_name": "SliderStyleModel",
            "description_width": "",
            "_view_module": "@jupyter-widgets/base",
            "_model_module_version": "1.5.0",
            "_view_count": null,
            "_view_module_version": "1.2.0",
            "_model_module": "@jupyter-widgets/controls"
          }
        },
        "7901ddee671a4b6ea432344368471edb": {
          "model_module": "@jupyter-widgets/base",
          "model_name": "LayoutModel",
          "model_module_version": "1.2.0",
          "state": {
            "_view_name": "LayoutView",
            "grid_template_rows": null,
            "right": null,
            "justify_content": null,
            "_view_module": "@jupyter-widgets/base",
            "overflow": null,
            "_model_module_version": "1.2.0",
            "_view_count": null,
            "flex_flow": null,
            "width": null,
            "min_width": null,
            "border": null,
            "align_items": null,
            "bottom": null,
            "_model_module": "@jupyter-widgets/base",
            "top": null,
            "grid_column": null,
            "overflow_y": null,
            "overflow_x": null,
            "grid_auto_flow": null,
            "grid_area": null,
            "grid_template_columns": null,
            "flex": null,
            "_model_name": "LayoutModel",
            "justify_items": null,
            "grid_row": null,
            "max_height": null,
            "align_content": null,
            "visibility": null,
            "align_self": null,
            "height": null,
            "min_height": null,
            "padding": null,
            "grid_auto_rows": null,
            "grid_gap": null,
            "max_width": null,
            "order": null,
            "_view_module_version": "1.2.0",
            "grid_template_areas": null,
            "object_position": null,
            "object_fit": null,
            "grid_auto_columns": null,
            "margin": null,
            "display": null,
            "left": null
          }
        },
        "d9bd829fadfb4210b647c2503c43d0a4": {
          "model_module": "@jupyter-widgets/controls",
          "model_name": "SliderStyleModel",
          "model_module_version": "1.5.0",
          "state": {
            "_view_name": "StyleView",
            "handle_color": null,
            "_model_name": "SliderStyleModel",
            "description_width": "",
            "_view_module": "@jupyter-widgets/base",
            "_model_module_version": "1.5.0",
            "_view_count": null,
            "_view_module_version": "1.2.0",
            "_model_module": "@jupyter-widgets/controls"
          }
        },
        "e85b5dff8fbb436fbca84683734480dc": {
          "model_module": "@jupyter-widgets/base",
          "model_name": "LayoutModel",
          "model_module_version": "1.2.0",
          "state": {
            "_view_name": "LayoutView",
            "grid_template_rows": null,
            "right": null,
            "justify_content": null,
            "_view_module": "@jupyter-widgets/base",
            "overflow": null,
            "_model_module_version": "1.2.0",
            "_view_count": null,
            "flex_flow": null,
            "width": null,
            "min_width": null,
            "border": null,
            "align_items": null,
            "bottom": null,
            "_model_module": "@jupyter-widgets/base",
            "top": null,
            "grid_column": null,
            "overflow_y": null,
            "overflow_x": null,
            "grid_auto_flow": null,
            "grid_area": null,
            "grid_template_columns": null,
            "flex": null,
            "_model_name": "LayoutModel",
            "justify_items": null,
            "grid_row": null,
            "max_height": null,
            "align_content": null,
            "visibility": null,
            "align_self": null,
            "height": null,
            "min_height": null,
            "padding": null,
            "grid_auto_rows": null,
            "grid_gap": null,
            "max_width": null,
            "order": null,
            "_view_module_version": "1.2.0",
            "grid_template_areas": null,
            "object_position": null,
            "object_fit": null,
            "grid_auto_columns": null,
            "margin": null,
            "display": null,
            "left": null
          }
        },
        "8700d2d3d5a54bc1b4251c4b39f2b06b": {
          "model_module": "@jupyter-widgets/controls",
          "model_name": "SliderStyleModel",
          "model_module_version": "1.5.0",
          "state": {
            "_view_name": "StyleView",
            "handle_color": null,
            "_model_name": "SliderStyleModel",
            "description_width": "",
            "_view_module": "@jupyter-widgets/base",
            "_model_module_version": "1.5.0",
            "_view_count": null,
            "_view_module_version": "1.2.0",
            "_model_module": "@jupyter-widgets/controls"
          }
        },
        "5fba68cc3a2444628b809ca13111f904": {
          "model_module": "@jupyter-widgets/base",
          "model_name": "LayoutModel",
          "model_module_version": "1.2.0",
          "state": {
            "_view_name": "LayoutView",
            "grid_template_rows": null,
            "right": null,
            "justify_content": null,
            "_view_module": "@jupyter-widgets/base",
            "overflow": null,
            "_model_module_version": "1.2.0",
            "_view_count": null,
            "flex_flow": null,
            "width": null,
            "min_width": null,
            "border": null,
            "align_items": null,
            "bottom": null,
            "_model_module": "@jupyter-widgets/base",
            "top": null,
            "grid_column": null,
            "overflow_y": null,
            "overflow_x": null,
            "grid_auto_flow": null,
            "grid_area": null,
            "grid_template_columns": null,
            "flex": null,
            "_model_name": "LayoutModel",
            "justify_items": null,
            "grid_row": null,
            "max_height": null,
            "align_content": null,
            "visibility": null,
            "align_self": null,
            "height": null,
            "min_height": null,
            "padding": null,
            "grid_auto_rows": null,
            "grid_gap": null,
            "max_width": null,
            "order": null,
            "_view_module_version": "1.2.0",
            "grid_template_areas": null,
            "object_position": null,
            "object_fit": null,
            "grid_auto_columns": null,
            "margin": null,
            "display": null,
            "left": null
          }
        },
        "a096466b846c4c4f865e20faf30ed2b5": {
          "model_module": "@jupyter-widgets/base",
          "model_name": "LayoutModel",
          "model_module_version": "1.2.0",
          "state": {
            "_view_name": "LayoutView",
            "grid_template_rows": null,
            "right": null,
            "justify_content": null,
            "_view_module": "@jupyter-widgets/base",
            "overflow": null,
            "_model_module_version": "1.2.0",
            "_view_count": null,
            "flex_flow": null,
            "width": null,
            "min_width": null,
            "border": null,
            "align_items": null,
            "bottom": null,
            "_model_module": "@jupyter-widgets/base",
            "top": null,
            "grid_column": null,
            "overflow_y": null,
            "overflow_x": null,
            "grid_auto_flow": null,
            "grid_area": null,
            "grid_template_columns": null,
            "flex": null,
            "_model_name": "LayoutModel",
            "justify_items": null,
            "grid_row": null,
            "max_height": null,
            "align_content": null,
            "visibility": null,
            "align_self": null,
            "height": null,
            "min_height": null,
            "padding": null,
            "grid_auto_rows": null,
            "grid_gap": null,
            "max_width": null,
            "order": null,
            "_view_module_version": "1.2.0",
            "grid_template_areas": null,
            "object_position": null,
            "object_fit": null,
            "grid_auto_columns": null,
            "margin": null,
            "display": null,
            "left": null
          }
        }
      }
    }
  },
  "cells": [
    {
      "cell_type": "markdown",
      "metadata": {
        "id": "y7RP85s05IoE"
      },
      "source": [
        "# SBT 1312 Calculus for Biology\n",
        "\n",
        "## Graphing and Basic Transformations of Functions\n",
        "\n"
      ]
    },
    {
      "cell_type": "markdown",
      "metadata": {
        "id": "MvC-S5KE5IoJ"
      },
      "source": [
        "The graph of\n",
        "$$ y = f(x) + a$$\n",
        "is a **vertical translation** of the graph of $y = f(x)$.\n",
        "\n",
        "If $a>0$, the graph of $y = f(x)$ is shifted up $a$ units.\n",
        "\n",
        "If $a<0$, the graph of $y = f(x)$ is shifted down $|a|$ units."
      ]
    },
    {
      "cell_type": "markdown",
      "metadata": {
        "id": "9pPFHlWa5IoK"
      },
      "source": [
        "--------------------------------------------------------------"
      ]
    },
    {
      "cell_type": "markdown",
      "metadata": {
        "id": "MzYwrSMW5IoL"
      },
      "source": [
        "The graph of\n",
        "$$ y = f(x-c) $$\n",
        "is a **horizontal translation** of the graph of $y = f(x)$.\n",
        "\n",
        "If $c>0$, the graph of $y = f(x)$ is shifted right $c$ units.\n",
        "\n",
        "If $c<0$, the graph of $y = f(x)$ is shifted left $|c|$ units."
      ]
    },
    {
      "cell_type": "markdown",
      "metadata": {
        "id": "fc-vL7tc5IoL"
      },
      "source": [
        "--------------------------------------------------------------"
      ]
    },
    {
      "cell_type": "markdown",
      "metadata": {
        "id": "rd0GQ2mQ5IoL"
      },
      "source": [
        "The graph of\n",
        "$$ y = A f(x) $$\n",
        "is **amplification** to the graph of $y = f(x)$, given that $A>0$."
      ]
    },
    {
      "cell_type": "markdown",
      "metadata": {
        "id": "h8h6JHKr5IoM"
      },
      "source": [
        "--------------------------------------------------------------\n",
        "\n",
        "### Let's play!"
      ]
    },
    {
      "cell_type": "code",
      "metadata": {
        "id": "NSFuN9fF5IoM"
      },
      "source": [
        "from ipywidgets import interact\n",
        "import numpy as np\n",
        "\n",
        "from bokeh.io import push_notebook, show, output_notebook\n",
        "from bokeh.plotting import figure\n",
        "output_notebook()"
      ],
      "execution_count": null,
      "outputs": []
    },
    {
      "cell_type": "code",
      "metadata": {
        "id": "9rqD5pt75IoO"
      },
      "source": [
        "x = np.linspace(0, 2*np.pi, 2000)\n",
        "y = np.sin(x)"
      ],
      "execution_count": null,
      "outputs": []
    },
    {
      "cell_type": "code",
      "metadata": {
        "id": "hncwtJpL5IoP"
      },
      "source": [
        "p = figure(title=\"Let's play!\", plot_height=300, plot_width=600, y_range=(-5,5),\n",
        "           background_fill_color='#efefef')\n",
        "r = p.line(x, y, color=\"#8888cc\", line_width=1.5, alpha=0.8)\n",
        "\n",
        "def update(f, c=1, A=1, a=0):\n",
        "    if   f == \"sin\": func = np.sin\n",
        "    elif f == \"cos\": func = np.cos\n",
        "    elif f == \"tan\": func = np.tan\n",
        "    elif f == \"exponent\": func = np.exp\n",
        "    elif f == \"ln\": func = np.log    \n",
        "    r.data_source.data['y'] = A * func((x-c)) + a\n",
        "    push_notebook()\n",
        "    "
      ],
      "execution_count": null,
      "outputs": []
    },
    {
      "cell_type": "code",
      "metadata": {
        "colab": {
          "base_uri": "https://localhost:8080/",
          "height": 462,
          "referenced_widgets": [
            "8d210d9eddb24f23b3c23336e06ea48f",
            "e8cf9c1fb2d64b038842be343d0b2570",
            "ae50b67065c14876b5b4215064d9938c",
            "fb8696335cb2420c964f5b35507c55b5",
            "4002ffbd98104a58bbe74e2b2f90c183",
            "8fab4153c0124db49dfc8f56a79be5ae",
            "6d4c8ac8206149d9a99520bb08401c06",
            "5b92faacf0c84856b7320d9343263aa0",
            "b68ebe64122a47aeaca42f8e8fd4040b",
            "5c6762b4dbf44cabbc26cb57ad987b92",
            "7901ddee671a4b6ea432344368471edb",
            "d9bd829fadfb4210b647c2503c43d0a4",
            "e85b5dff8fbb436fbca84683734480dc",
            "8700d2d3d5a54bc1b4251c4b39f2b06b",
            "5fba68cc3a2444628b809ca13111f904",
            "a096466b846c4c4f865e20faf30ed2b5"
          ]
        },
        "id": "9y8NJtDg74Xg",
        "outputId": "c6e8fcc1-3964-422a-88a7-d0249973713c"
      },
      "source": [
        "show(p, notebook_handle=True)\n",
        "interact(update, f=[\"sin\", \"cos\", \"tan\", \"ln\", \"exponent\"], c=(-5,5), A=(-5,5), a=(-5, 5, 0.1))"
      ],
      "execution_count": null,
      "outputs": [
        {
          "output_type": "display_data",
          "data": {
            "application/javascript": [
              "\n",
              "(function(root) {\n",
              "  function now() {\n",
              "    return new Date();\n",
              "  }\n",
              "\n",
              "  var force = true;\n",
              "\n",
              "  if (typeof root._bokeh_onload_callbacks === \"undefined\" || force === true) {\n",
              "    root._bokeh_onload_callbacks = [];\n",
              "    root._bokeh_is_loading = undefined;\n",
              "  }\n",
              "\n",
              "  var JS_MIME_TYPE = 'application/javascript';\n",
              "  var HTML_MIME_TYPE = 'text/html';\n",
              "  var EXEC_MIME_TYPE = 'application/vnd.bokehjs_exec.v0+json';\n",
              "  var CLASS_NAME = 'output_bokeh rendered_html';\n",
              "\n",
              "  /**\n",
              "   * Render data to the DOM node\n",
              "   */\n",
              "  function render(props, node) {\n",
              "    var script = document.createElement(\"script\");\n",
              "    node.appendChild(script);\n",
              "  }\n",
              "\n",
              "  /**\n",
              "   * Handle when an output is cleared or removed\n",
              "   */\n",
              "  function handleClearOutput(event, handle) {\n",
              "    var cell = handle.cell;\n",
              "\n",
              "    var id = cell.output_area._bokeh_element_id;\n",
              "    var server_id = cell.output_area._bokeh_server_id;\n",
              "    // Clean up Bokeh references\n",
              "    if (id != null && id in Bokeh.index) {\n",
              "      Bokeh.index[id].model.document.clear();\n",
              "      delete Bokeh.index[id];\n",
              "    }\n",
              "\n",
              "    if (server_id !== undefined) {\n",
              "      // Clean up Bokeh references\n",
              "      var cmd = \"from bokeh.io.state import curstate; print(curstate().uuid_to_server['\" + server_id + \"'].get_sessions()[0].document.roots[0]._id)\";\n",
              "      cell.notebook.kernel.execute(cmd, {\n",
              "        iopub: {\n",
              "          output: function(msg) {\n",
              "            var id = msg.content.text.trim();\n",
              "            if (id in Bokeh.index) {\n",
              "              Bokeh.index[id].model.document.clear();\n",
              "              delete Bokeh.index[id];\n",
              "            }\n",
              "          }\n",
              "        }\n",
              "      });\n",
              "      // Destroy server and session\n",
              "      var cmd = \"import bokeh.io.notebook as ion; ion.destroy_server('\" + server_id + \"')\";\n",
              "      cell.notebook.kernel.execute(cmd);\n",
              "    }\n",
              "  }\n",
              "\n",
              "  /**\n",
              "   * Handle when a new output is added\n",
              "   */\n",
              "  function handleAddOutput(event, handle) {\n",
              "    var output_area = handle.output_area;\n",
              "    var output = handle.output;\n",
              "\n",
              "    // limit handleAddOutput to display_data with EXEC_MIME_TYPE content only\n",
              "    if ((output.output_type != \"display_data\") || (!Object.prototype.hasOwnProperty.call(output.data, EXEC_MIME_TYPE))) {\n",
              "      return\n",
              "    }\n",
              "\n",
              "    var toinsert = output_area.element.find(\".\" + CLASS_NAME.split(' ')[0]);\n",
              "\n",
              "    if (output.metadata[EXEC_MIME_TYPE][\"id\"] !== undefined) {\n",
              "      toinsert[toinsert.length - 1].firstChild.textContent = output.data[JS_MIME_TYPE];\n",
              "      // store reference to embed id on output_area\n",
              "      output_area._bokeh_element_id = output.metadata[EXEC_MIME_TYPE][\"id\"];\n",
              "    }\n",
              "    if (output.metadata[EXEC_MIME_TYPE][\"server_id\"] !== undefined) {\n",
              "      var bk_div = document.createElement(\"div\");\n",
              "      bk_div.innerHTML = output.data[HTML_MIME_TYPE];\n",
              "      var script_attrs = bk_div.children[0].attributes;\n",
              "      for (var i = 0; i < script_attrs.length; i++) {\n",
              "        toinsert[toinsert.length - 1].firstChild.setAttribute(script_attrs[i].name, script_attrs[i].value);\n",
              "        toinsert[toinsert.length - 1].firstChild.textContent = bk_div.children[0].textContent\n",
              "      }\n",
              "      // store reference to server id on output_area\n",
              "      output_area._bokeh_server_id = output.metadata[EXEC_MIME_TYPE][\"server_id\"];\n",
              "    }\n",
              "  }\n",
              "\n",
              "  function register_renderer(events, OutputArea) {\n",
              "\n",
              "    function append_mime(data, metadata, element) {\n",
              "      // create a DOM node to render to\n",
              "      var toinsert = this.create_output_subarea(\n",
              "        metadata,\n",
              "        CLASS_NAME,\n",
              "        EXEC_MIME_TYPE\n",
              "      );\n",
              "      this.keyboard_manager.register_events(toinsert);\n",
              "      // Render to node\n",
              "      var props = {data: data, metadata: metadata[EXEC_MIME_TYPE]};\n",
              "      render(props, toinsert[toinsert.length - 1]);\n",
              "      element.append(toinsert);\n",
              "      return toinsert\n",
              "    }\n",
              "\n",
              "    /* Handle when an output is cleared or removed */\n",
              "    events.on('clear_output.CodeCell', handleClearOutput);\n",
              "    events.on('delete.Cell', handleClearOutput);\n",
              "\n",
              "    /* Handle when a new output is added */\n",
              "    events.on('output_added.OutputArea', handleAddOutput);\n",
              "\n",
              "    /**\n",
              "     * Register the mime type and append_mime function with output_area\n",
              "     */\n",
              "    OutputArea.prototype.register_mime_type(EXEC_MIME_TYPE, append_mime, {\n",
              "      /* Is output safe? */\n",
              "      safe: true,\n",
              "      /* Index of renderer in `output_area.display_order` */\n",
              "      index: 0\n",
              "    });\n",
              "  }\n",
              "\n",
              "  // register the mime type if in Jupyter Notebook environment and previously unregistered\n",
              "  if (root.Jupyter !== undefined) {\n",
              "    var events = require('base/js/events');\n",
              "    var OutputArea = require('notebook/js/outputarea').OutputArea;\n",
              "\n",
              "    if (OutputArea.prototype.mime_types().indexOf(EXEC_MIME_TYPE) == -1) {\n",
              "      register_renderer(events, OutputArea);\n",
              "    }\n",
              "  }\n",
              "\n",
              "  \n",
              "  if (typeof (root._bokeh_timeout) === \"undefined\" || force === true) {\n",
              "    root._bokeh_timeout = Date.now() + 5000;\n",
              "    root._bokeh_failed_load = false;\n",
              "  }\n",
              "\n",
              "  var NB_LOAD_WARNING = {'data': {'text/html':\n",
              "     \"<div style='background-color: #fdd'>\\n\"+\n",
              "     \"<p>\\n\"+\n",
              "     \"BokehJS does not appear to have successfully loaded. If loading BokehJS from CDN, this \\n\"+\n",
              "     \"may be due to a slow or bad network connection. Possible fixes:\\n\"+\n",
              "     \"</p>\\n\"+\n",
              "     \"<ul>\\n\"+\n",
              "     \"<li>re-rerun `output_notebook()` to attempt to load from CDN again, or</li>\\n\"+\n",
              "     \"<li>use INLINE resources instead, as so:</li>\\n\"+\n",
              "     \"</ul>\\n\"+\n",
              "     \"<code>\\n\"+\n",
              "     \"from bokeh.resources import INLINE\\n\"+\n",
              "     \"output_notebook(resources=INLINE)\\n\"+\n",
              "     \"</code>\\n\"+\n",
              "     \"</div>\"}};\n",
              "\n",
              "  function display_loaded() {\n",
              "    var el = document.getElementById(null);\n",
              "    if (el != null) {\n",
              "      el.textContent = \"BokehJS is loading...\";\n",
              "    }\n",
              "    if (root.Bokeh !== undefined) {\n",
              "      if (el != null) {\n",
              "        el.textContent = \"BokehJS \" + root.Bokeh.version + \" successfully loaded.\";\n",
              "      }\n",
              "    } else if (Date.now() < root._bokeh_timeout) {\n",
              "      setTimeout(display_loaded, 100)\n",
              "    }\n",
              "  }\n",
              "\n",
              "\n",
              "  function run_callbacks() {\n",
              "    try {\n",
              "      root._bokeh_onload_callbacks.forEach(function(callback) {\n",
              "        if (callback != null)\n",
              "          callback();\n",
              "      });\n",
              "    } finally {\n",
              "      delete root._bokeh_onload_callbacks\n",
              "    }\n",
              "    console.debug(\"Bokeh: all callbacks have finished\");\n",
              "  }\n",
              "\n",
              "  function load_libs(css_urls, js_urls, callback) {\n",
              "    if (css_urls == null) css_urls = [];\n",
              "    if (js_urls == null) js_urls = [];\n",
              "\n",
              "    root._bokeh_onload_callbacks.push(callback);\n",
              "    if (root._bokeh_is_loading > 0) {\n",
              "      console.debug(\"Bokeh: BokehJS is being loaded, scheduling callback at\", now());\n",
              "      return null;\n",
              "    }\n",
              "    if (js_urls == null || js_urls.length === 0) {\n",
              "      run_callbacks();\n",
              "      return null;\n",
              "    }\n",
              "    console.debug(\"Bokeh: BokehJS not loaded, scheduling load and callback at\", now());\n",
              "    root._bokeh_is_loading = css_urls.length + js_urls.length;\n",
              "\n",
              "    function on_load() {\n",
              "      root._bokeh_is_loading--;\n",
              "      if (root._bokeh_is_loading === 0) {\n",
              "        console.debug(\"Bokeh: all BokehJS libraries/stylesheets loaded\");\n",
              "        run_callbacks()\n",
              "      }\n",
              "    }\n",
              "\n",
              "    function on_error(url) {\n",
              "      console.error(\"failed to load \" + url);\n",
              "    }\n",
              "\n",
              "    for (let i = 0; i < css_urls.length; i++) {\n",
              "      const url = css_urls[i];\n",
              "      const element = document.createElement(\"link\");\n",
              "      element.onload = on_load;\n",
              "      element.onerror = on_error.bind(null, url);\n",
              "      element.rel = \"stylesheet\";\n",
              "      element.type = \"text/css\";\n",
              "      element.href = url;\n",
              "      console.debug(\"Bokeh: injecting link tag for BokehJS stylesheet: \", url);\n",
              "      document.body.appendChild(element);\n",
              "    }\n",
              "\n",
              "    const hashes = {\"https://cdn.bokeh.org/bokeh/release/bokeh-2.3.3.min.js\": \"dM3QQsP+wXdHg42wTqW85BjZQdLNNIXqlPw/BgKoExPmTG7ZLML4EGqLMfqHT6ON\", \"https://cdn.bokeh.org/bokeh/release/bokeh-tables-2.3.3.min.js\": \"8x57I4YuIfu8XyZfFo0XVr2WAT8EK4rh/uDe3wF7YuW2FNUSNEpJbsPaB1nJ2fz2\", \"https://cdn.bokeh.org/bokeh/release/bokeh-widgets-2.3.3.min.js\": \"3QTqdz9LyAm2i0sG5XTePsHec3UHWwVsrOL68SYRoAXsafvfAyqtQ+h440+qIBhS\"};\n",
              "\n",
              "    for (let i = 0; i < js_urls.length; i++) {\n",
              "      const url = js_urls[i];\n",
              "      const element = document.createElement('script');\n",
              "      element.onload = on_load;\n",
              "      element.onerror = on_error.bind(null, url);\n",
              "      element.async = false;\n",
              "      element.src = url;\n",
              "      if (url in hashes) {\n",
              "        element.crossOrigin = \"anonymous\";\n",
              "        element.integrity = \"sha384-\" + hashes[url];\n",
              "      }\n",
              "      console.debug(\"Bokeh: injecting script tag for BokehJS library: \", url);\n",
              "      document.head.appendChild(element);\n",
              "    }\n",
              "  };\n",
              "\n",
              "  function inject_raw_css(css) {\n",
              "    const element = document.createElement(\"style\");\n",
              "    element.appendChild(document.createTextNode(css));\n",
              "    document.body.appendChild(element);\n",
              "  }\n",
              "\n",
              "  \n",
              "  var js_urls = [\"https://cdn.bokeh.org/bokeh/release/bokeh-2.3.3.min.js\", \"https://cdn.bokeh.org/bokeh/release/bokeh-widgets-2.3.3.min.js\", \"https://cdn.bokeh.org/bokeh/release/bokeh-tables-2.3.3.min.js\"];\n",
              "  var css_urls = [];\n",
              "  \n",
              "\n",
              "  var inline_js = [\n",
              "    function(Bokeh) {\n",
              "      Bokeh.set_log_level(\"info\");\n",
              "    },\n",
              "    function(Bokeh) {\n",
              "    \n",
              "    \n",
              "    }\n",
              "  ];\n",
              "\n",
              "  function run_inline_js() {\n",
              "    \n",
              "    if (root.Bokeh !== undefined || force === true) {\n",
              "      \n",
              "    for (var i = 0; i < inline_js.length; i++) {\n",
              "      inline_js[i].call(root, root.Bokeh);\n",
              "    }\n",
              "    } else if (Date.now() < root._bokeh_timeout) {\n",
              "      setTimeout(run_inline_js, 100);\n",
              "    } else if (!root._bokeh_failed_load) {\n",
              "      console.log(\"Bokeh: BokehJS failed to load within specified timeout.\");\n",
              "      root._bokeh_failed_load = true;\n",
              "    } else if (force !== true) {\n",
              "      var cell = $(document.getElementById(null)).parents('.cell').data().cell;\n",
              "      cell.output_area.append_execute_result(NB_LOAD_WARNING)\n",
              "    }\n",
              "\n",
              "  }\n",
              "\n",
              "  if (root._bokeh_is_loading === 0) {\n",
              "    console.debug(\"Bokeh: BokehJS loaded, going straight to plotting\");\n",
              "    run_inline_js();\n",
              "  } else {\n",
              "    load_libs(css_urls, js_urls, function() {\n",
              "      console.debug(\"Bokeh: BokehJS plotting callback run at\", now());\n",
              "      run_inline_js();\n",
              "    });\n",
              "  }\n",
              "}(window));"
            ],
            "application/vnd.bokehjs_load.v0+json": "\n(function(root) {\n  function now() {\n    return new Date();\n  }\n\n  var force = true;\n\n  if (typeof root._bokeh_onload_callbacks === \"undefined\" || force === true) {\n    root._bokeh_onload_callbacks = [];\n    root._bokeh_is_loading = undefined;\n  }\n\n  \n\n  \n  if (typeof (root._bokeh_timeout) === \"undefined\" || force === true) {\n    root._bokeh_timeout = Date.now() + 5000;\n    root._bokeh_failed_load = false;\n  }\n\n  var NB_LOAD_WARNING = {'data': {'text/html':\n     \"<div style='background-color: #fdd'>\\n\"+\n     \"<p>\\n\"+\n     \"BokehJS does not appear to have successfully loaded. If loading BokehJS from CDN, this \\n\"+\n     \"may be due to a slow or bad network connection. Possible fixes:\\n\"+\n     \"</p>\\n\"+\n     \"<ul>\\n\"+\n     \"<li>re-rerun `output_notebook()` to attempt to load from CDN again, or</li>\\n\"+\n     \"<li>use INLINE resources instead, as so:</li>\\n\"+\n     \"</ul>\\n\"+\n     \"<code>\\n\"+\n     \"from bokeh.resources import INLINE\\n\"+\n     \"output_notebook(resources=INLINE)\\n\"+\n     \"</code>\\n\"+\n     \"</div>\"}};\n\n  function display_loaded() {\n    var el = document.getElementById(null);\n    if (el != null) {\n      el.textContent = \"BokehJS is loading...\";\n    }\n    if (root.Bokeh !== undefined) {\n      if (el != null) {\n        el.textContent = \"BokehJS \" + root.Bokeh.version + \" successfully loaded.\";\n      }\n    } else if (Date.now() < root._bokeh_timeout) {\n      setTimeout(display_loaded, 100)\n    }\n  }\n\n\n  function run_callbacks() {\n    try {\n      root._bokeh_onload_callbacks.forEach(function(callback) {\n        if (callback != null)\n          callback();\n      });\n    } finally {\n      delete root._bokeh_onload_callbacks\n    }\n    console.debug(\"Bokeh: all callbacks have finished\");\n  }\n\n  function load_libs(css_urls, js_urls, callback) {\n    if (css_urls == null) css_urls = [];\n    if (js_urls == null) js_urls = [];\n\n    root._bokeh_onload_callbacks.push(callback);\n    if (root._bokeh_is_loading > 0) {\n      console.debug(\"Bokeh: BokehJS is being loaded, scheduling callback at\", now());\n      return null;\n    }\n    if (js_urls == null || js_urls.length === 0) {\n      run_callbacks();\n      return null;\n    }\n    console.debug(\"Bokeh: BokehJS not loaded, scheduling load and callback at\", now());\n    root._bokeh_is_loading = css_urls.length + js_urls.length;\n\n    function on_load() {\n      root._bokeh_is_loading--;\n      if (root._bokeh_is_loading === 0) {\n        console.debug(\"Bokeh: all BokehJS libraries/stylesheets loaded\");\n        run_callbacks()\n      }\n    }\n\n    function on_error(url) {\n      console.error(\"failed to load \" + url);\n    }\n\n    for (let i = 0; i < css_urls.length; i++) {\n      const url = css_urls[i];\n      const element = document.createElement(\"link\");\n      element.onload = on_load;\n      element.onerror = on_error.bind(null, url);\n      element.rel = \"stylesheet\";\n      element.type = \"text/css\";\n      element.href = url;\n      console.debug(\"Bokeh: injecting link tag for BokehJS stylesheet: \", url);\n      document.body.appendChild(element);\n    }\n\n    const hashes = {\"https://cdn.bokeh.org/bokeh/release/bokeh-2.3.3.min.js\": \"dM3QQsP+wXdHg42wTqW85BjZQdLNNIXqlPw/BgKoExPmTG7ZLML4EGqLMfqHT6ON\", \"https://cdn.bokeh.org/bokeh/release/bokeh-tables-2.3.3.min.js\": \"8x57I4YuIfu8XyZfFo0XVr2WAT8EK4rh/uDe3wF7YuW2FNUSNEpJbsPaB1nJ2fz2\", \"https://cdn.bokeh.org/bokeh/release/bokeh-widgets-2.3.3.min.js\": \"3QTqdz9LyAm2i0sG5XTePsHec3UHWwVsrOL68SYRoAXsafvfAyqtQ+h440+qIBhS\"};\n\n    for (let i = 0; i < js_urls.length; i++) {\n      const url = js_urls[i];\n      const element = document.createElement('script');\n      element.onload = on_load;\n      element.onerror = on_error.bind(null, url);\n      element.async = false;\n      element.src = url;\n      if (url in hashes) {\n        element.crossOrigin = \"anonymous\";\n        element.integrity = \"sha384-\" + hashes[url];\n      }\n      console.debug(\"Bokeh: injecting script tag for BokehJS library: \", url);\n      document.head.appendChild(element);\n    }\n  };\n\n  function inject_raw_css(css) {\n    const element = document.createElement(\"style\");\n    element.appendChild(document.createTextNode(css));\n    document.body.appendChild(element);\n  }\n\n  \n  var js_urls = [\"https://cdn.bokeh.org/bokeh/release/bokeh-2.3.3.min.js\", \"https://cdn.bokeh.org/bokeh/release/bokeh-widgets-2.3.3.min.js\", \"https://cdn.bokeh.org/bokeh/release/bokeh-tables-2.3.3.min.js\"];\n  var css_urls = [];\n  \n\n  var inline_js = [\n    function(Bokeh) {\n      Bokeh.set_log_level(\"info\");\n    },\n    function(Bokeh) {\n    \n    \n    }\n  ];\n\n  function run_inline_js() {\n    \n    if (root.Bokeh !== undefined || force === true) {\n      \n    for (var i = 0; i < inline_js.length; i++) {\n      inline_js[i].call(root, root.Bokeh);\n    }\n    } else if (Date.now() < root._bokeh_timeout) {\n      setTimeout(run_inline_js, 100);\n    } else if (!root._bokeh_failed_load) {\n      console.log(\"Bokeh: BokehJS failed to load within specified timeout.\");\n      root._bokeh_failed_load = true;\n    } else if (force !== true) {\n      var cell = $(document.getElementById(null)).parents('.cell').data().cell;\n      cell.output_area.append_execute_result(NB_LOAD_WARNING)\n    }\n\n  }\n\n  if (root._bokeh_is_loading === 0) {\n    console.debug(\"Bokeh: BokehJS loaded, going straight to plotting\");\n    run_inline_js();\n  } else {\n    load_libs(css_urls, js_urls, function() {\n      console.debug(\"Bokeh: BokehJS plotting callback run at\", now());\n      run_inline_js();\n    });\n  }\n}(window));"
          },
          "metadata": {}
        },
        {
          "output_type": "display_data",
          "data": {
            "text/html": [
              "\n",
              "\n",
              "\n",
              "\n",
              "\n",
              "\n",
              "  <div class=\"bk-root\" id=\"9e34fc20-5eac-44f8-88d7-309266662bef\" data-root-id=\"1002\"></div>\n"
            ]
          },
          "metadata": {}
        },
        {
          "output_type": "display_data",
          "data": {
            "application/javascript": [
              "(function(root) {\n",
              "  function embed_document(root) {\n",
              "    \n",
              "  var docs_json = {\"8f9ef44c-a198-49ca-84b2-d6f0fb7c7e93\":{\"defs\":[],\"roots\":{\"references\":[{\"attributes\":{\"background_fill_color\":\"#efefef\",\"below\":[{\"id\":\"1013\"}],\"center\":[{\"id\":\"1016\"},{\"id\":\"1020\"}],\"height\":300,\"left\":[{\"id\":\"1017\"}],\"renderers\":[{\"id\":\"1038\"}],\"title\":{\"id\":\"1003\"},\"toolbar\":{\"id\":\"1028\"},\"x_range\":{\"id\":\"1005\"},\"x_scale\":{\"id\":\"1009\"},\"y_range\":{\"id\":\"1007\"},\"y_scale\":{\"id\":\"1011\"}},\"id\":\"1002\",\"subtype\":\"Figure\",\"type\":\"Plot\"},{\"attributes\":{},\"id\":\"1024\",\"type\":\"SaveTool\"},{\"attributes\":{\"data\":{\"x\":{\"__ndarray__\":\"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\",\"dtype\":\"float64\",\"order\":\"little\",\"shape\":[2000]},\"y\":{\"__ndarray__\":\"7gwJj1Tt6r/ipShXYt/qvznuJble0eq/t70TvknD6r8eKhBvI7Xqv0+BRNXrpuq/T0Pl+aKY6r9fHDLmSIrqv/XedaPde+q/vH0GO2Ft6r+JBUW2017qv0iXnR41UOq/3mGHfYVB6r8QnITcxDLqv1R+IkXzI+q/pTz5wBAV6r9OAKxZHQbqv6fh6BgZ9+m/2OFoCATo6b+I5O8x3tjpv46pTJ+nyem/kcZYWmC66b+zoPhsCKvpvxxmG+Gfm+m/lAe7wCaM6b8NMtwVnXzpvyFIjuoCbem/llvrSFhd6b/NJhg7nU3pvzUGRMvRPem/sPGoA/Yt6b/3dYvuCR7pv/GtOpYNDum/CDwQBQH+6L91Q3BF5O3ov4dhyWG33ei/4KaUZHrN6L+tkFVYLb3ov9oBmkfQrOi/ODz6PGOc6L+n2RhD5ovovy7FomRZe+i/FDRPrLxq6L/unt8kEFrov666H9lTSei/nHHl04c46L9Z3BAgrCfov9Q6jMjAFui/N+1L2MUF6L/PbE5au/Tnv+1EnFmh4+e/xwtI4XfS579EW278PsHnv9HJNbb2r+e/JuPOGZ+e578IIXQyOI3nvwLkaQvCe+e/Hmz+rzxq57+N0YkrqFjnv1T9bYkER+e/6qEW1VE157/WM/kZkCPnv0DilGO/Eee/go9yvd//5r+xySQz8e3mvxrDR9Dz2+a/xUqBoOfJ5r/kxICvzLfmv0Mj/wijpea/tt2+uGqT5r946ovKI4Hmv4W2O0rObua/9h2tQ2pc5r9QZMjC90nmv8osf9N2N+a/mXLMgeck5r8ngbTZSRLmv1DsROed/+W/kIiUtuPs5b82Y8NTG9rlv4K6+spEx+W/yfVsKGC05b+SnVV4baHlv6lT+cZsjuW/KculIF575b+KwLGRQWjlv6LxfCYXVeW/oxVw695B5b8Q1fzsmC7lv7HBnTdFG+W/e07W1+MH5b98xzLadPTkv7RJSEv44OS/9rq0N27N5L+2wR6s1rnkv9+8NbUxpuS/mLuxX3+S5L8IdVO4v37kvxdA5MvyauS/JQs2pxhX5L+6UyNXMUPkvzsej+g8L+S/i+1kaDsb5L+uupjjLAfkv2vsJmcR8+O/404UAOne478bC267s8rjv5GeSaZxtuO/w9LEzSKi47+ttAU/x43jv0aMOgdfeeO//NOZM+pk478fMGLRaFDjv1Rm2u3aO+O/+1RRlkAn47+M6h3YmRLjv/scn8Dm/eK/C+E7XSfp4r+lIWO7W9TivyC3i+iDv+K/jV408p+q4r/5sOPlr5Xiv6waKNGzgOK/YtKXwatr4r990NDEl1bivzTGeOh3QeK/whQ9Okws4r+GxNLHFBfivyJ89p7RAeK/m3dszYLs4b9sfwBhKNfhv5nfhWfCweG/uF7X7lCs4b/8NNcE1JbhvzgDb7dLgeG/28mPFLhr4b/q3zEqGVbhv/PpVAZvQOG/ANH/trkq4b+AuUBK+RThvy76LM4t/+C/8RLhUFfp4L+5o4DgddPgv1tjNouJveC/ZRY0X5Kn4L/lhbJqkJHgvz128buDe+C/4503YWxl4L8rnNJoSk/gv/rvFuEdOeC/he5f2OYi4L8Cug9dpQzgv7twHvuy7N+/wROckAbA37+y/4SXRZPfv3wm0yxwZt+/m7aNbYY5379SCMl2iAzfv82KpmV2396/TbFUV1Cy3r8+4A5pFoXev1NaHbjIV96/hi3VYWcq3r8eIJiD8vzdv6ad1Dpqz92/6aMFpc6h3b/Or7LfH3Tdv0aqbwheRt2/F9XcPIkY3b/Bt6aaoercvzEMhj+nvNy/mKs/SZqO3L8Ue6TVemDcv21YkQJJMty/twbv7QQE3L8AG7K1rtXbv9zo2ndGp9u/Am91Usx427/ZQ5ljQErbv/WBacmiG9u/mrQUovPs2r8sxNQLM77av6bi7iRhj9q/8nezC35g2r9bDn7eiTHav9E+tbuEAtq/TZ3KwW7T2b8QpToPSKTZv+OkjMIQddm/YatS+shF2b8bcynVcBbZv9VOuHEI59i/oRWx7o+32L8ID9BqB4jYvx7f2wRvWNi/mnKl28Yo2L/b6gcOD/nXv/eJ6LpHyde/sZ42AXGZ1793cOv/imnXv1QrCtaVOde/2MufopEJ178DC8OEftnWvxtKlJtcqda/lH49Bix51r/OHfLj7EjWv/YI71OfGNa/u3h6dUPo1b8f6eNn2bfVvyAFhEphh9W/epK8PNtW1b9PXfhdRybVv84jq82l9dS/34FRq/bE1L+y3HAWOpTUv2VOly5wY9S/ipFbE5ky1L+87FzktAHUvx0eQ8HD0NO/4Ua+ycWf07++1oYdu27Tv3J3XdyjPdO/IvgKJoAM07/QOGAaUNvSv8gVNtkTqtK/7VJtgst40r8uh+41d0fSv8UHqhMXFtK/odOXO6vk0b+cfrfNM7PRv9YcEOqwgdG/7S2wsCJQ0b9CiK1BiR7Rvy1EJb3k7NC/N6c7QzW70L9LDxz0eonQv9zd+O+1V9C/FWMLV+Yl0L/hkSeTGOjPv8z8sc9PhM+/5URRpHIgz7+A3q1RgbzOv05KfRh8WM6/lOuBOWP0zb8g3or1NpDNv3PMc433K82/psUkQqXHzL9uE5JUQGPMvx4QvAXJ/su/cfyulj+ay7+O1YJIpDXLv8QqW1z30Mq/evNmEzlsyr/eZOCuaQfKv8fHDHCJosm/Vk48mJg9yb/H6clol9jIvwkgGyOGc8i/cuGfCGUOyL9oXtJaNKnHv+fcNlv0Q8e/MY5bS6Xexr8+ZNhsR3nGv2PnTgHbE8a/tQtqSmCuxb+iBt6J10jFv0kkaAFB48S/Cp3O8px9xL/QauCf6xfEv4gedUotssO/g7VsNGJMw7+8bq+fiubCv0WgLc6mgMK/eozfAbcawr9pN8V8u7TBv/U75oC0TsG/OKFRUKLowL+erx0thYLAvzbGZ1ldHMC/mF+oLlZsv79b8BtS3Z++v3mCjaFQ072/ODBtobAGvb+7lDfW/Tm8vwN2dcQ4bbu/X2+78GGgur9Um6nfedO5v/896xWBBrm/7242GHg5uL93w0trX2y3v3749ZM3n7a/wJwJFwHStb+XumR5vAS1vw6C7j9qN7S/6/KW7wpqs79jhlYNn5yyv0bZLR4nz7G/nlUlp6MBsb/O3EwtFTSwv1ridmv4zK6/L8Adi7Ixrb8A19bDWZarv/vn9h/v+qm/rUTeqXNfqL/DIvhr6MOmv7jvuXBOKKW/26OiwqaMo79MFjps8vChv+NPEHgyVaC/N7554c9ynb/5VbzBJzuav+SNMaZuA5e/XYstpKbLk7//GQ7R0ZOQv5WicoTkt4q/kXg4GhRIhL8u/aUcbbB7v2D3vy5AoW2/8sBhqJcMP7/XfPTHHN5lPzTeMi7fznc/UBIdR1BXgj9FNxgXJceIPzC7ItzpNo8/8W+vNU3Tkj9A/v1MGQuWP2CYnB7XQpk/Cgw0lYR6nD8nvXebH7KfP06AEw7TdKE/RToHAYsQoz8ErQScNqykP6x2gdTUR6Y/ROD7n2Tjpz/Hifvz5H6pP+wWEsZUGqs/KdvbC7O1rD/phgC7/lCuP4DTM8k27K8/3BcbFq3DsD8qtursM5GxP/Kz9mOvXrI/7l009h4ssz8ttKAegvmzP1LAQFjYxrQ/bOshHiGUtT9rVFrrW2G2P+8lCTuILrc/cexWiKX7tz8B7HVOs8i4P6t2ogixlbk/I0IjMp5iuj/KvUlGei+7P6VocsBE/Ls//SYFHP3IvD+ZmHXUopW9P09uQ2U1Yr4/77/6SbQuvz/GYTT+Hvu/P1sdy366Y8A/08zp4drJwD+gxVZm8C/BP86X+cn6lcE/zAfByvn7wT9jOaMm7WHCP1banZvUx8I/NE22568twz/p0/nIfpPDP6e6ff1A+cM/cIJfQ/ZexD/PC8VYnsTEP1/B3Ps4KsU/kMLd6sWPxT8pDgjkRPXFP9qspKW1WsY/0tsF7hfAxj8rN4d7ayXHP5HkjQywisc/o72IX+Xvxz90evAyC1XIP9jbR0Uhusg//tUbVScfyT+qugMhHYTJP6VjoWcC6ck/7Vyh59ZNyj8wD7tfmrLKP/LpsI5MF8s/0Y1QM+17yz/H9nIMfODLPzSm/Nj4RMw/O83dV2OpzD+8dhJIuw3NP4GxomgAcs0/LrqieDLWzT93JTM3UTrOPwMKgWNcns4/ayrGvFMCzz81H0kCN2bPP5mAXfMFys8/SQiyJ+AW0D9LcuXqskjQP7jHBiN7etA/d6Xarzis0D/kkCxx693QP5kMz0aTD9E/Ta2bEDBB0T+ZLnOuwXLRP9KHPQBIpNE/ywDq5cLV0T+WRm8/MgfSP0iAy+yVONI/oWMEzu1p0j/bSSfDOZvSP0RESax5zNI/9jCHaa390j9rzwXb1C7TPzLV8eDvX9M/fwKAW/6Q0z/DNu0qAMLTPzKFfi/18tM/Y0mBSd0j1D/JO0tZuFTUPzOGOj+GhdQ/Tti120a21D8LfCwP+ubUPyVqFrqfF9U/fl70vDdI1T+H7E/4wXjVP5aTu0w+qdU/TtPSmqzZ1T/sPzrDDArWP5CWn6ZeOtY/kNG5JaJq1j+jPEkh15rWPziJF3r9ytY/nOL3EBX71j8uAsfGHSvXP3xDa3wXW9c/erjUEgKL1z+TPf1q3brXP8ON6GWp6tc/mVak5GUa2D9ZTEjIEkrYP+s99vGvedg/4ijaQj2p2D9vTSqcutjYP0VCJ98nCNk/lwgc7YQ32T/rH16n0WbZP/uZTe8Nltk/ei5VpjnF2T/7TuqtVPTZP6U6jedeI9o/+RHJNFhS2j+A6jN3QIHaP4vibpAXsNo/1jQmYt3e2j8pTBHOkQ3bP/nW8rU0PNs/7tqY+8Vq2z+FyNyARZnbP4eOoyezx9s/jq3d0Q722z9vS4dhWCTcP7tGqLiPUtw/HEpUubSA3D+136pFx67cP4GE1z/H3Nw/kbsRirQK3T9uIZ0GjzjdP0h/yZdWZt0/Ot7yHwuU3T9pmoGBrMHdP0F26p46790/kK2uWrUc3j+aCFyXHErePybvjDdwd94/lnvoHbCk3j/ajSIt3NHeP27e+0f0/t4/SRFCUfgr3z+8yM8r6FjfP1+4jLrDhd8/4Ldt4Iqy3z/V1XSAPd/fPzm12L7tBeA/LhWgXTIc4D+qnCWObDLgP3AeBUKcSOA/dDfhasFe4D8vWGP623TgP+bNO+LriuA/6MshFPGg4D/WdNOB67bgP9TjFR3bzOA/zTW117/i4D+YkoSjmfjgPzI2XnJoDuE/1nkjNiwk4T803bzg5DnhP4cPGmSST+E/rvgxsjRl4T9MwgK9y3rhP8rgkXZXkOE/dhzs0Nel4T9/miW+TLvhP/7lWTC20OE/7virGRTm4T8wRUZsZvvhP3q9WhqtEOI/Rt4iFugl4j+9tt9RFzviP6Xx2b86UOI/Od5hUlJl4j8Kec/7XXriP9l0gq5dj+I/YUPiXFGk4j8tHl75OLniP18PbXYUzuI/cfqNxuPi4j/ypEfcpvfiP0O/KKpdDOM/S+3HIggh4z8kz8M4pjXjP8QJw943SuM/o090B71e4z9daY6lNXPjP0c+0Kuhh+M/Ct0ADQGc4z8ohO+7U7DjP5Sqc6uZxOM/LwhtztLY4z9InsMX/+zjPxbAZ3oeAeQ/MhtS6TAV5D/+v4NXNinkPxkqBrguPeQ/vEjr/RlR5D8Yh00c+GTkP7jUTwbJeOQ/0K0dr4yM5D+LI+sJQ6DkP1Lk9Anss+Q/FkSAoofH5D+KRNvGFdvkP12dXGqW7uQ/ZMRjgAkC5T/W9Vj8bhXlP2c8rdHGKOU/cXna8xA85T8LbWNWTU/lPx6+0+x7YuU/fgLAqpx15T/pxsWDr4jlPxeXi2u0m+U/rgXBVauu5T9DtB42lMHlP0tbZgBv1OU/CtJiqDvn5T9xFugh+vnlPw5V02CqDOY/3/AKWUwf5j8oi37+3zHmP0QLJ0VlROY/bKYGIdxW5j+A5yiGRGnmP8G2omiee+Y/iGGSvOmN5j/2oR92JqDmP6Sme4lUsuY/Rhrh6nPE5j9JK5SOhNbmP2yT4miG6OY/Up8jbnn65j8SNriSXQznP7ngCssyHuc/ztGPC/kv5z/H7MRIsEHnP4DNMXdYU+c/qs9ni/Fk5z8sFgJ6e3bnP4eSpTf2h+c/MgwBuWGZ5z/qJ83yvarnPwJvzNkKvOc/rFbLYkjN5z8xR6CCdt7nPzajKy6V7+c/6M5XWqQA6D8xNxn8oxHoP9NYbgiUIug/ksdfdHQz6D9ONQA1RUToPw95bD8GVeg/FpbLiLdl6D/jwk4GWXboPzVwMa3qhug/AFC5cmyX6D9jXDZM3qfoP43eAi9AuOg/qXWDEJLI6D+7HSfm09joP3M2Z6UF6eg//4nHQyf56D/ZU9a2OAnpP4RHLPQ5Gek/UJds8Sop6T8K+0SkCznpP6e2bQLcSOk/9qCpAZxY6T89KsaXS2jpP9Bim7rqd+k/pAEMYHmH6T/kagV+95bpP2y2fwplpuk/ULZ9+8G16T9L/QxHDsXpPzrlReNJ1Ok/fpVLxnTj6T9gCUzmjvLpP3EWgDmYAeo/2HIrtpAQ6j+lu5xSeB/qPxZ7LQVPLuo/2C5CxBQ96j86TkqGyUvqP2RQwEFtWuo/gLIp7f9o6j/e/RZ/gXfqPwjOI+7xheo/5db2MFGU6j+56kE+n6LqPzQAwgzcsOo/bjg/kwe/6j/c5IzIIc3qP0eNiaMq2+o/s/UeGyLp6j89JEImCPfqP/xm87vcBOs/0Vk+058S6z8w7DljUSDrP/FmCGPxLes//nHXyX876z8WGuCO/EjrP3TWZqlnVus/dY67EMFj6z9Gnzm8CHHrP2fhR6M+fus/Ua5YvWKL6z/x5ekBdZjrPy/0hGh1pes/b9a+6GOy6z/3IDh6QL/rP2oEnRQLzOs/IVOlr8PY6z+JhhRDauXrP4DEucb+8es/muRvMoH+6z9pdR1+8QrsP8LBtKFPF+w/6NUzlZsj7D/KhKRQ1S/sPxptHMz8O+w/ev68/xFI7D+SfrPjFFTsPxgOOXAFYOw/6a2SneNr7D/5QxFkr3fsP1WgEbxog+w/G4L8nQ+P7D9YnEYCpJrsP/CacOElpuw/ficHNJWx7D8Z7qLy8bzsPzOi6BU8yOw/SAOJlnPT7D+l4UBtmN7sPx0j2ZKq6ew/rscmAKr07D8s7gqulv/sP9XYcpVwCu0/7PFXrzcV7T9J0L/06x/tP9A7vF6NKu0/+jFr5hs17T9I6vaElz/tP6ralTMASu0/67uK61VU7T8KjiSmmF7tP4ycvlzIaO0/1ILACOVy7T9cMJ6j7nztP/zs1yblhu0/FV36i8iQ7T/IhZ7MmJrtPxfRaeJVpO0/ABIOx/+t7T+UiEl0lrftPwnm5uMZwe0/tFC9D4rK7T8TaLDx5tPtP7dIsIMw3e0/MpC5v2bm7T8HYdWfie/tP3dmGR6Z+O0/YtinNJUB7j8Kf6/dfQruP9u2axNTE+4/LnQk0BQc7j/uRi4OwyTuP1Be6sddLe4/dIzG9+Q17j/6ST2YWD7uP6K51aO4Ru4/x6sjFQVP7j/uocfmPVfuPz/SbhNjX+4/7yrTlXRn7j+1Vbtocm/uPya7+oZcd+4/DIZx6zJ/7j/BpgyR9YbuP2zWxXKkju4/TZqjiz+W7j/sRrnWxp3uP1ADJ086pe4/JcwZ8Jms7j/Zdsu05bPuP7a0gpgdu+4/9BWTlkHC7j+2DF2qUcnuPxPwTc9N0O4/Bv/fADbX7j9cY5o6Ct7uP5w0EXjK5O4/4HrltHbr7j+tMcXsDvLuP75KaxuT+O4/xbCfPAP/7j8rSjdMXwXvP8H7E0anC+8/ZqskJtsR7z+yQmXo+hfvP4ix3ogGHu8/rPCmA/4j7z9HBOFU4SnvP2v+vHiwL+8/jQF4a2s17z/sQlwpEjvvPwQNwa6kQO8/38EK+CJG7z913aoBjUvvP/n3H8jiUO8/Fsj1RyRW7z80JcV9UVvvP6sJNGZqYO8/5pT1/W5l7z+UDcpBX2rvP7fjfi47b+8/urLuwAJ07z97QwH2tXjvP0yOq8pUfe8/67zvO9+B7z9xLN1GVYbvPzlvkOi2iu8/wk4zHgSP7z+BzfzkPJPvP7EoMTphl+8/GdohG3Gb7z/EmS2FbJ/vP7xfwHVTo+8/rmVT6iWn7z+SKG3g46rvP0NqoVWNru8/EDORRyKy7z9H0+qzorXvP7XkaZgOue8/GUzX8mW87z+eOgnBqL/vPzQv4wDXwu8/+PdVsPDF7z+Hs1/N9cjvP0fSC1bmy+8/shdzSMLO7z+Jm7uiidHvPw7LGGM81O8/KmrLh9rW7z+QlCEPZNnvP9i+dvfY2+8/i7czPzne7z8tqM7khODvPz0Wy+a74u8/KeS5Q97k7z8+Ujn66+bvP4v/9Ajl6O8/vuqlbsnq7z/5chIqmezvP5xYDjpU7u8/B756nfrv7z9UKEZTjPHvPwqAbFoJ8+8/wRH3sXH07z/GjvxYxfXvP7ANoU4E9+8/8AoWki747z9TaZoiRPnvP4Zyev9E+u8/gNcPKDH77z/5sMGbCPzvP8V/BFrL/O8/MS1aYnn97z9VC1K0Ev7vP13ViE+X/u8/x6+oMwf/7z+gKGlgYv/vP6s3j9Wo/+8/jz7tktr/7z/uCGOY9//vP4DM3eX//+8/GylYe/P/7z+1KNpY0v/vP2Y/eX6c/+8/UktY7FH/7z+XlKei8v7vPyzNpKF+/u8/uxCb6fX97z9u5OJ6WP3vP7c24lWm/O8/Dl8Me9/77z+mHeLqA/vvPxmb8aUT+u8/DmjWrA757z/RfDkA9ffvP+o40aDG9u8/o2Jhj4P17z+KJrvMK/TvP+wWvVm/8u8/QitTNz7x7z+Zv3ZmqO/vP/STLuj97e8/mcuOvT7s7z9r7LjnaurvPyLe22eC6O8/jukzP4Xm7z/Ltwpvc+TvP2dRt/hM4u8/hR2e3RHg7z/74DAfwt3vP1u97r5d2+8/AzBkvuTY7z8UESsfV9bvP2+S6uK00+8/oj5XC/7Q7z/K9zKaMs7vP3L2TJFSy+8/aciB8l3I7z+JT7u/VMXvP37A8Po2wu8/fqEmpgS/7z/5yG7DvbvvP0lc6FRiuO8/SM6/XPK07z/w3S7dbbHvP+WUfNjUre8//0X9UCeq7z/JixJJZabvP+9GK8OOou8/sZzDwaOe7z9K9WRHpJrvP0D6pVaQlu8/xZQq8meS7z/166McK47vPyFj0NjZie8/BJh7KXSF7z/zYH4R+oDvPwfLvpNrfO8/Ohgws8h37z+FvdJyEXPvP+VgtNVFbu8/Zdfv3mVp7z8eI62RcWTvPylxIfFoX+8/ihePAExa7z8Zk0XDGlXvP1aFoTzVT+8/QbIMcHtK7z8m/v1gDUXvP1Zr+RKLP+8/7BeQifQ57z9zO2DISTTvP5UkFdOKLu8/ujZnrbco7z+c5xtb0CLvP9q8BeDUHO8/fUkEQMUW7z9yKwR/oRDvPwkJ/6BpCu8/Vo77qR0E7z+hag2evf3uP7xNVYFJ9+4/VeUAWMHw7j9J2komJeruP9/NevB04+4/CVflurDc7j+R/+uJ2NXuP0VB/WHszu4/G4OUR+zH7j9HFjo/2MDuP0szg02wue4/A/cRd3Sy7j+gX5XAJKvuP6ZJyS7Bo+4/2Gx2xkmc7j8bWXKMvpTuP11zn4Ufje4/ZfLstmyF7j+j21Ylpn3uP/n/5dXLde4/cvivzd1t7j/+ItcR3GXuPxufiqfGXe4/eEoGlJ1V7j+ZvZLcYE3uP2JIhYYQRe4/qu4/l6w87j++ZDEUNTTuP9QL1QKqK+4/je6yaAsj7j9TvV9LWRruP8PKfLCTEe4/CQi4nboI7j8pAcwYzv/tP1nZfyfO9u0/MUenz7rt7T/2kCIXlOTtP8OI3gNa2+0/sojUmwzS7T8Cbwrlq8jtPzOakuU3v+0/DOWLo7C17T+0oiElFqztP6Wai3Boou0/sQQOjKeY7T/uhPl9047tP50nq0zshO0/EV2M/vF67T+B9RKa5HDtP+IcwSXEZu0/rFYlqJBc7T+WedonSlLtP1erh6vwR+0/V1zgOYQ97T9QQ6TZBDPtP/xYn5FyKO0/n9OpaM0d7T+oIqhlFRPtPzTqio9KCO0/if5O7Wz97D+dX/2FfPLsP3s0q2B55+w/uMZ5hGPc7D/QfZb4OtHsP3zaOsT/xew/DnKs7rG67D+46Tx/Ua/sP8bxSX3eo+w/6kA98FiY7D9fj4zfwIzsPyCSuVIWgew/CfZRUVl17D/rWu/iiWnsP61ONw+oXew/Tkjb3bNR7D/xophWrUXsP9mYOIGUOew/VT6QZWkt7D++fIALLCHsP1QN9nrcFOw/FXTpu3oI7D+n+l7WBvzrPxOrZtKA7+s/nEocuOji6z95VKePPtbrP4f0OmGCyes/BwIWNbS86z88+oIT1K/rPxT71wTious/wb12Ed6V6z9EkcxByIjrPwVVUp6ge+s/T3OML2du6z/I2wr+G2HrP/P9aBK/U+s/kMNNdVBG6z8Ki2sv0DjrP9YhgEk+K+s/v75UzJod6z9H/L3A5Q/rP9/Smy8fAus/M5PZIUf06j9k4G2gXebqPyuqWrRi2Oo/GyetZlbK6j+vzn3AOLzqP3hT8MoJruo/Kp0zj8mf6j+hwoEWeJHqP/0DIGoVg+o/kcRek6F06j/ahJmbHGbqP4DcNoyGV+o/KXSobt9I6j90/2pMJzrqP8Q2Bi9eK+o/FNEMIIQc6j/SfRwpmQ3qP5Xe3VOd/uk/5oAEqpDv6T/71041c+DpP1Y2hv9E0ek/h8d+EgbC6T/AiRd4trLpP25HOjpWo+k/3pDbYuWT6T+2tfr7Y4TpP46+oQ/SdOk/a2blpy9l6T8rFOXOfFXpPxDUyo65Rek/D1HL8eU16T9NziUCAibpP3IgJMoNFuk/9qYaVAkG6T+HRWiq9PXoP0BddtfP5eg/78W45ZrV6D9Zx63fVcXoP2AS3s8Ateg/QLrcwJuk6D+xLUe9JpToP/wvxc+hg+g/LdIIAw1z6D8KbM5haGLoPziV3PazUeg/Nx4Eze9A6D9ZCSDvGzDoP8iDFWg4H+g/d97TQkUO6D/+hlSKQv3nP5cAm0kw7Oc/5dy0iw7b5z/ftLlb3cnnP5ghy8ScuOc/BbUU0kyn5z/R8suO7ZXnPwlJMAZ/hOc/5AiLQwFz5z9rXy9SdGHnPyFOej3YT+c/taPSEC0+5z+O9KjXciznP3KTd52pGuc/F4rCbdEI5z+bkRdU6vbmPyMLDlz05OY/TvhGke/S5j+k82z/28DmPx0pNLK5ruY/d05atYic5j+vm6YUSYrmP1jD6dv6d+Y/7ur9Fp5l5j87o8bRMlPmP4/gMBi5QOY/GvMy9jAu5j8nf8x3mhvmP011Bqn1COY/tQrzlUL25T9Csa1KgePlP7APW9Ox0OU/zvkoPNS95T+CaE6R6KrlP/NxC9/ul+U/lkGpMeeE5T8xEHqV0XHlP+8b2RauXuU/TqAqwnxL5T8vztujPTjlP7vDYsjwJOU/T4Q+PJYR5T9y8PYLLv7kP7K9HES46uQ/eG5J8TTX5D/0SR8gpMPkP9VTSd0FsOQ/LkR7NVqc5D8yf3E1oYjkP+oM8enadOQ/CpHHXwdh5D+KQsujJk3kP23j2sI4OeQ/ZrjdyT0l5D9vgMPFNRHkP35shMMg/eM/FRch0P7o4z/Qe6L4z9TjPwfvGUqUwOM/QBWh0Uus4z/K2lmc9pfjPzNrbreUg+M/uigRMCZv4z/Wo3wTq1rjP42S824jRuM/+cfAT48x4z+cKzfD7hzjP7uwsdZBCOM/y02Tl4jz4j+680YTw97iPziFP1fxyeI/F873cBO14j95evJtKaDiPyIOulszi+I/stvgRzF24j/K+wBAI2HiP1lEvFEJTOI/rD+8iuM24j+uI7L4sSHiPwDJVql0DOI/DKJqqiv34T82srUJ1+HhP9SEB9V2zOE/ViQ3Ggu34T9DESPnk6HhPzg5sUkRjOE/+e3OT4N24T9k3HAH6mDhP14Dk35FS+E/3ao4w5U14T+6Wmzj2h/hP6/RP+0UCuE/NPzL7kP04D9V6zD2Z97gP6DLlRGByOA/5NsoT4+y4D8YZB+9kpzgPyGstWmLhuA/i/IuY3lw4D9mY9W3XFrgP/oO+nU1ROA/d+D0qwMu4D/DlCRoxxfgPxOx7riAAeA/XvN+WV/W3z8l0ROkqKnfPwhIj27dfN8/perx1f1P3z+mfkn3CSPfPyPqsO8B9t4/tyBQ3OXI3j+KEFzatZveP4+PFgdybt4/gUjOfxpB3j/Tp95hrxPeP9/Ir8ow5t0/pWK215643T/mtHOm+YrdP/p0dVRBXd0/lbpV/3Uv3T/N7LrElwHdP7KuV8Km09w/QszqFaOl3D8VJz/djHfcP/uiKzZkSdw/1BKTPikb3D8jJWQU3OzbP5lQmdV8vts/2MA4oAuQ2z/PQlSSiGHbP3MxCcrzMts/KGKAZU0E2z8mEe6CldXaPxzOkUDMpto/Y2i2vPF32j+R27EVBknaP8A75WkJGto/zaG81/vq2T/RF6993bvZP1SFPnqujNk/cJv3625d2T9EwXHxHi7ZP+f/Tqm+/tg/xu47Mk7P2D+zn++qzZ/YP+uKKzI9cNg/X3u75pxA2D+MenXn7BDYP7K8OVMt4dc/xYzySF6x1z9TOJTnf4HXP6b7HE6SUdc/gu2Um5Uh1z856w3vifHWP3uEo2dvwdY/G+d6JEaR1j8Py8JEDmHWPy1es+fHMNY/3S+OLHMA1j8NHZ4yENDVP7c7Nxmfn9U/yca2/x9v1T/GCYMFkz7VP1FMC0r4DdU/Er7H7E/d1D8RYjkNmqzUP4z66crWe9Q/b/RrRQZL1D/RUlqcKBrUP6eaWO896dM/NL4SXka40z9wCD0IQofTP7QIlA0xVtM/833cjRMl0z9gQuOo6fPSP7k2fX6zwtI/my2HLnGR0j8U1+XYImDSP7+rhZ3ILtI/TdhanGL90T/BKGH18MvRP6Dzm8hzmtE/aQUWNuto0T+7i+FdVzfRP30AGGC4BdE/SBXaXA7U0D9ink90WaLQPxp+p8aZcNA/5I8XdM8+0D9fk9yc+gzQP2AvdMI2ts8/vMz0wmNSzz9F3dx7fO7OP8hg2y2Bis4/X06sGXImzj/hahiAT8LNP8Ye9aEZXs0/90skwND5zD9BJJQbdZXMP8r+PvUGMcw/ay4rjobMyz9o12on9GfLPyTFGwJQA8s/XUBnX5qeyj+G5IGA0znKP/p1q6b71Mk/jLcuExNwyT8VQGEHGgvJP4RQo8QQpsg/WqlfjPdAyD8eYAugztvHP3C1JUGWdsc/HOo3sU4Rxz8eFdUx+KvGP/z4mQSTRsY/Gtksax/hxT+rTz2nnXvFP6gihPoNFsU/shnDpnCwxD9Q08TtxUrEPyWaXBEO5cM/xDpmU0l/wz+H2MX1dxnDP1vDZzqas8I/3UxAY7BNwj96nUuyuufBPyGKjWm5gcE/+mgRy6wbwT9f5+kYlbXAP0reMJVyT8A/wE8OBIvSvz8U6ihDHAa/P7FDDmyZOb4/WhYoAwNtvT86x+yMWaC8PxsS342d07s/IbKNis8Guz+wDJMH8Dm6P1bclIn/bLk/ZtlDlf6fuD/PZFuv7dK3P+wyoVzNBbc/EPTkIZ44tj9A//+DYGu1P/v81AcVnrQ/pI9PMrzQsz9+/mOIVgOzPw3fDo/kNbI/A8BUy2ZosT+a0UHC3ZqwP2sg0/GTmq8/6N3M6Ff/rT8HALNzCGSsP2A+1JymyKo/1jiLbjMtqT8myD3zr5GnP2tTXDUd9qU/nSJhP3xapD8EtM8bzr6iP68MNNUTI6E/thpE7JwOnz+6jmkS/tabPwWaGzJNn5g/3wypYIxnlT/yDGuzvS+SP/Frh3/G740/woY5Nv5/hz/tc8y1JhCBP+shVFKIQHU/HpIN7WrBYD+4wpBHi/xRvy1K/jD4XnG/3vDaUMI+fr8zbcptPI+Fvxuvqb0J/4u/yfyTdmI3kb8/4rboNG+Uv3n42B/6ppe/90OeBrDemr+Cs7SHVBaevzu76sbypqC/By7jgbBCor9RlC1qYt6jv2x4O3UHeqW/abeGmJ4Vp7+oMJLJJrGov+Jw6v2eTKq/Ll0mKwboq7994udGW4Otv5Gg3EadHq+/dkpfkOVcsL8dZSrlcSqxv5MBuhzz97G/nrL/sWjFsr8WlPQf0pKzvwmgmeEuYLS/VAX4cX4ttb+9fCFMwPq1v4KgMOvzx7a/p0FJyhiVt785vZhkLmK4v89TVjU0L7m/wn7Dtyn8ub9fRSxnDsm6v1aU577hlbu/2JJXOqNivL+89+lUUi+9v89gGIru+72/oadoVXfIvr/TN20y7JS/v+axYk6mMMC/+90OCMyWwL/RMRgE5/zAv/uyYgD3YsG/gobZuvvIwb9MG2/x9C7Cv4VUHWLilMK/GrXlysP6wr8VitHpmGDDv/QU8nxhxsO/FrdgQh0sxL/sGz/4y5HEv9Vjt1xt98S/Sk78LQFdxb8wZUkqh8LFvw4n4w//J8a/QDEXnWiNxr8/azyQw/LGv8Ews6cPWMe/2XvloUy9x78uEEc9eiLIvwqlVTiYh8i/Zw+ZUabsyL8ObaNHpFHJv3dOEdmRtsm/XuGJxG4byr+XGr/IOoDKvw3hbaT15Mq/qTdeFp9Jy78vZ2PdNq7LvykpXLi8Esy/t9EyZjB3zL9Ved2lkdvMv7InXjbgP82/ZP3C1hukzb+eXSZGRAjOv+gYr0NZbM6/pZaQjlrQzr9B/wrmRzTPv6NlawkhmM+/z/ELuOX7z78uBarYyi/Qv/c+XFqYYdC/4dbdQFuT0L+A2/ZrE8XQvxVOdrvA9tC/vDcyD2Mo0b8TvgdH+lnRv9s320KGi9G/H0KY4ga90b+41DEGfO7Rvy5Xoo3lH9K/O7XrWENR0r/UcxdIlYLSv7bFNjvbs9K/4J9iEhXl0r+ZzrutQhbTv+MJa+1jR9O/6gmhsXh407/9m5bagKnTv+62jEh82tO/do/M22oL1L8Urad0TDzUv1v+d/MgbdS/iO2fOOid1L++dIokos7Uv9cyq5dO/9S/oX9+cu0v1b8agImVfmDVvyo7WuEBkdW/1a2HNnfB1b9g37F13vHVvwD2gX83Ita/9EqqNIJS1r+efuZ1voLWvx2N+yPssta/ROK3Hwvj1r/ybfNJGxPXv/y3j4McQ9e/svR3rQ5z17/LGKGo8aLXv1ntCVbF0te/MSS7lokC2L/Na8dLPjLYvyKDS1bjYdi//01ul3iR2L/E6GDw/cDYv3e8XkJz8Ni/dJKtbtgf2b+nqJ1WLU/Zv0LFidtxftm/ZkrX3qWt2b9OSvZBydzZv+qaYebbC9q/eemerd062r+Zzj55zmnav9Lh3CqumNq/F80fpHzH2r/EYLnGOfbavwSnZnTlJNu/gvfvjn9T27/FCin4B4Lbvw0O8ZF+sNu/qLYyPuPe279FVeTeNQ3cv7jpB1Z2O9y/QTarhaRp3L+90udPwJfcv11A45bJxdy/zfzOPMDz3L9YlegjpCHdv3+6eS51T92//1LYPjN93b8ij2Y33qrdv7H7kvp12N2/cpXYavoF3r8Z3L5qazPevy7l2dzIYN6/dm/KoxKO3r/F9T2iSLvev9jB7rpq6N6/l/+j0HgV37/ZzzHGckLfvx1beX5Yb9+/ueRo3Cmc379y3fvC5sjfv2b2OhWP9d+/yBkeWxER4L9tf5HEUCfgv04dkLiFPeC/ESq5KLBT4L9Lq7IG0Gngv7h+KUTlf+C/a2PR0u+V4L87A2Wk76vgv+z7parkweC/Uehc187X4L+raVkcru3gv74wcmuCA+G/CQeFtksZ4b/R13bvCS/hv225Mwi9ROG/Tfau8mRa4b8DFuOgAXDhv3nm0QSTheG/8YSEEBmb4b/7Zgu2k7Dhv6FjfucCxuG/Vbz8lmbb4b/ZJa22vvDhv2DRvTgLBuK/ZHVkD0wb4r+gVt4sgTDiv+NQcIOqReK/GOBmBcha4r8PKRal2W/iv0oC2lTfhOK/8/wVB9mZ4r+cbTWuxq7iv/R0qzyow+K/twjzpH3Y4r9a/I7ZRu3iv7EJCs0DAuO/0Nn2cbQW47+hDfC6WCvjv55GmJrwP+O/Xy+aA3xU479ehKjo+mjjv4kcfjxtfeO/vfHd8dKR47+HKZP7K6bjv5cdcUx4uuO/OWRT17fO47/72B2P6uLjvxilvGYQ9+O/3kckUSkL5L9Dn1FBNR/kvzrwSSo0M+S/KO8a/yVH5L8ryNqyClvkv54nqDjibuS/W0Kqg6yC5L/63RCHaZbkv0RZFDYZquS/ZrT1g7u95L8cmf5jUNHkvxZjgcnX5OS/FijZp1H45L8TwGnyvQvlv4PNn5wcH+W/acXwmW0y5b9/99rdsEXlvziW5VvmWOW/976gBw5s5b8KgqXUJ3/lv57qlbYzkuW/6gYdoTGl5b8U8O6HIbjlvxXSyF4Dy+W/0vNwGdfd5b/wvrarnPDlv6fHcglUA+a/yNSGJv0V5r945932lyjmvxNDbG4kO+a/4HQvgaJN5r/5Wy4jEmDmv/wweUhzcua/tI0p5cWE5r/vdGLtCZfmvxpaUFU/qea/3SgpEWa75r/ZTCwVfs3mvzG5olWH3+a/K/DexoHx5r+nCj1dbQPnv82/Ig1KFee/e2z/yhcn57+4GkyL1jjnv0OJi0KGSue/+zJK5SZc5781Vh5ouG3nvz78p786f+e/rgCR4K2Q57+oGI2/EaLnv1PaWVFms+e/BsS+iqvE57+dQ41g4dXnv569oMcH5+e/kpTetB74578jMDYdJgnovzgEofUdGui/OJgiMwYr6L8WjsjK3jvov1ipqrGnTOi/SNbq3GBd6L/sMLVBCm7ov/gLQNWjfui/7vfLjC2P6L/3yaNdp5/ov+SiHD0RsOi//fWVIGvA6L8BkHn9tNDov/SdO8nu4Oi/4rNaeRjx6L/M018DMgHpv1103lw7Eem/n4d0ezQh6b/LgcpUHTHpv/Vfk971QOm/oK6MDr5Q6b+IkH7adWDpvybFOzgdcOm/Uq+hHbR/6b/BW5iAOo/pv6yHElewnum/PqcNlxWu6b8K7JE2ar3pv5BLsiuuzOm/qYWMbOHb6b/TKknvA+vpv7WiG6oV+um/ZjJCkxYJ6r+vAgahBhjqv3Qmu8nlJuq/4qDAA7Q16r+0a4BFcUTqv1h9b4UdU+q/OM8Nurhh6r/OY+bZQnDqv75Mj9u7fuq/ArGptSON6r/y0uFeepvqv0AW782/qeq/FAaU+fO36r/6Wp7YFsbqv80A52Eo1Oq/uBxSjCji6r8SE89OF/Dqvz2NWKD0/eq/cn/0d8AL67+oLrTMehnrv1I2tJUjJ+u/D44cyro067+DjyBhQELrv/n7/lG0T+u/AAIClBZd678vQ38eZ2rrv63Z1+ild+u/vF146tKE679j69ga7pHrv90nfXH3nuu/JEf05e6r679ZEdlv1Ljrv0fo0Qaoxeu/wcyQomnS67/7Y9M6Gd/rv/L8Yse26+u/upUUQEL467+24MicuwTsv/dJbNUiEey/Zvz24Xcd7L/t5my6uinsv77B3VbrNey/XxNlrwlC7L/WNSq8FU7sv6lbYHUPWuy/BJVG0/Zl7L+01CfOy3HsvxT1Wl6Ofey/H71CfD6J7L9R5U0g3JTsv4Ac90JnoOy/0wzF3N+r7L+OYErmRbfsv9bGJViZwuy/i/gBK9rN7L/9vJVXCNnsv6nuo9Yj5Oy/3H/7oCzv7L9sf3evIvrsv1Ud//oFBe2/Pq+FfNYP7b8mtQotlBrtv9/dmQU/Je2/gQtL/9Yv7b8AWEITXDrtv4kZsDrORO2/5+bQbi1P7b/3m+2oeVntv/JdW+KyY+2/xp97FNlt7b9RJrw47Hftv7oMl0jsge2/mciSPdmL7b8lLkIRs5Xtv210RL15n+2/cjlFOy2p7b80hvyEzbLtv9fSLpRavO2/pAqtYtTF7b//j1TqOs/tv3RADyWO2O2/mHjTDM7h7b/+F6Sb+urtvwSFkMsT9O2/xrC0lhn97b/cGjn3CwbuvyLVUufqDu6/hYdDYbYX7r+0c1lfbiDuv8V479sSKe6/8BZt0aMx7r8kc0Y6ITruv6Fa/BCLQu6/fUYcUOFK7r88X0DyI1Puv0mAD/JSW+6/Xjs9Sm5j7r8I3In1dWvuvwNrwu5pc+6/kLHAMEp77r/YPGu2FoPuvzdhtXrPiu6/cz2feHSS7r8MvjWrBZruv2Sgkg2Doe6/83Xcmuyo7r9ep0ZOQrDuv6B3ESOEt+6/HAeKFLK+7r+ZVgoezMXuv1lK+TrSzO6/B63KZsTT7r+nMv+cotruv4h7JNls4e6/IxfVFiPo7r/ohrhRxe7uvx9Bg4VT9e6/qbP2rc377r++RuHGMwLvv6BfHsyFCO+/VWOWucMO779HuT6L7RTvv9zNGT0DG++/GRU3ywQh778kDbMx8ibvv8pAt2zLLO+/AEp6eJAy779U1D9RQTjvv1WfWPPdPe+/+4AiW2ZD77//ZwiF2kjvvy1egm06Tu+/qIoVEYZT7783NFRsvVjvv3PD3XvgXe+/9sRePO9i77+N65Cq6Wfvv0sSO8PPbO+/pT4xg6Fx77+AolTnXnbvvzWek+wHe++/isLpj5x/77+w0l/OHITvvyTGC6WIiO+/mcoQEeCM77/NRZ8PI5Hvv17X9J1Rle+/mFpcuWuZ778q6C1fcZ3vv+rXzoxioe+/f8KxPz+l778Gg1Z1B6nvv7c4Siu7rO+/dkgnX1qw779fXpUO5bPvv1FvSTdbt++/ZLoF17y6779fypnrCb7vvyN34nJCwe+/DOfJambE779OkEfRdcfvvz86YKRwyu+/qP4l4lbN778BS7iIKNDvv6LhQ5bl0u+//9oCCY7V77/DpjzfIdjvv+4MRheh2u+/8S6Brwvd77+xiF2mYd/vv5HxV/qi4e+/aZ36qc/j7794Hd2z5+Xvv1NhpBbr5++/urcC0dnp779+z7fhs+vvv0a4kEd57e+/WeNnASrv779fJCUOxvDvvxOyvWxN8u+/7iY0HMDz77/RgZgbHvXvv5wmCGpn9u+/wN6tBpz377/N2cHwu/jvv/CtiSfH+e+/blhYqr36778RPo54n/vvv5QrmZFs/O+/+1X09CT977/wWiiiyP3vvw1By5hX/u+/H3iA2NH+779k2fhgN//vv8Cn8jGI/++/5I85S8T/779wqKas6//vvxByIFb+/++/iteaR/z/77/DLReB5f/vv8UzpAK6/++/rhJezHn/77+kXW7eJP/vv7YRDDm7/u+/upV73Dz+778gug7Jqf3vv764JP8B/e+/kTQqf0X87796OZlJdPvvv+k7+V6O+u+/ixjfv5P577/nE+1shPjvv/bZ0mZg9++/rn1Nrif277+NeCdE2vTvvxGqOCl48++/MVdmXgHy77/DKaPkdfDvv+Mv77zV7u+/TNtX6CDt77+qAPhnV+vvv+HW9zx56e+/T/aMaIbn778EWPrrfuXvv/BUkMhi4++/B6Ws/zHh779mXrqS7N7vv1z0MYOS3O+/gjaZ0iPa77+3T4OCoNfvvyHFkJQI1e+/F3VvClzS778Sltrlms/vv421mijFzO+/27aF1NrJ77/20X7r28bvv0uSdm/Iw++/c9VqYqDA77/syWbGY73vv8btgp0Suu+/SA3l6ay277+IQcCtMrPvvwbvVOujr++/L8TwpACs77/lt+7cSKjvv/MHt5V8pO+/hje/0Zug77+ODYqTppzvvx+Tp92cmO+/zhG1sn6U77/3EV0VTJDvvwlZVwgFjO+/xedojqmH779s+GOqOYPvv+/8J1+1fu+/GZ2hrxx677+etMqeb3XvvzdRqi+ucO+/p7BUZdhr77/FPutC7mbvv2mTnMvvYe+/ZHCkAt1c779qv0vrtVfvv+qP6Ih6Uu+/7BTe3ipN77/dopzwxkfvv1OtocFOQu+/zcR3VcI8779qlLavITfvv5DfAtRsMe+/k38OxqMr779RYZiJxiXvv8mCbCLVH++/m/BjlM8Z77+Sw2TjtRPvvyMeYhOIDe+/0ClcKEYH77+aFGAm8ADvv2UOiBGG+u6/Rkb77Qf07r/Z5+2/de3uv4oYoYvP5u6/zvRiVRXg7r9djY4hR9nuv1zki/Rk0u6/jurP0m7L7r9ifNzAZMTuvxFfQMNGve6/rD2X3hS27r8apokXz67uvxQGzXJ1p+6/I6gj9Qeg7r9+sFyjhpjuv/EZVILxkO6/v7LylkiJ7r9rGS7mi4Huv4O5CHW7ee6/ZsiRSNdx7r/+QeVl32nuv2zlK9LTYe6/sDGbkrRZ7r9UYnWsgVHuv/prCSU7Se6/6viyAeFA7r+rZdpHczjuv2299PzxL+6/jbaDJl0n7r8GrxXKtB7uv9CoRe34Fe6/Q0a7lSkN7r9qxirJRgTuv18BVY1Q++2/f2QH6Eby7b+w7hvfKentv58seXj53+2/4TQSurXW7b8bpOapXs3tvzGZAk70w+2/P7F+rHa67b+7A4DL5bDtv3weOLFBp+2/pQHlY4qd7b+sG9Hpv5Ptvz5FU0niie2/Lr3OiPF/7b9FJLOu7XXtvxx5fMHWa+2/9hOzx6xh7b9wouvHb1ftv0gjx8gfTe2/HeLy0LxC7b8JcyjnRjjtv06uLRK+Le2/AKzUWCIj7b+Fv/vBcxjtvy9zjVSyDe2/voOAF94C7b/n29cR9/fsv7yPokr97Oy/G9j7yPDh7L8nDguU0dbsv42mA7Ofy+y/5iwlLVvA7L8QP7sJBLXsv2CIHVCaqey/67yvBx6e7L/IlOE3j5LsvyrHLujthuy/mAUfIDp77L8C90Xnc2/sv+gyQ0WbY+y/WzzCQbBX7L8HfXrkskvsv0VALzWjP+y//62vO4Ez7L+oxdb/TCfsvzVZi4kGG+y/6AfA4K0O7L81OXMNQwLsv6EXrxfG9eu/douJBzfp67+ZNSTlldzrvzlqrLjiz+u/mStbih3D67+hJHViRrbrv5SjSkldqeu/s5Q3R2Kc67/FfKNkVY/rv6lzAao2guu/7x7QHwZ16789rJnOw2frv9vL875vWuu/F6t/+QlN67/F7umGkj/rv4Ot6m8JMuu/I2pFvW4k678LDsl3whbrv2fjT6gECeu/fI+/VzX76r/vDAmPVO3qvw==\",\"dtype\":\"float64\",\"order\":\"little\",\"shape\":[2000]}},\"selected\":{\"id\":\"1049\"},\"selection_policy\":{\"id\":\"1048\"}},\"id\":\"1035\",\"type\":\"ColumnDataSource\"},{\"attributes\":{},\"id\":\"1011\",\"type\":\"LinearScale\"},{\"attributes\":{},\"id\":\"1044\",\"type\":\"BasicTickFormatter\"},{\"attributes\":{\"formatter\":{\"id\":\"1041\"},\"major_label_policy\":{\"id\":\"1043\"},\"ticker\":{\"id\":\"1014\"}},\"id\":\"1013\",\"type\":\"LinearAxis\"},{\"attributes\":{\"data_source\":{\"id\":\"1035\"},\"glyph\":{\"id\":\"1036\"},\"hover_glyph\":null,\"muted_glyph\":null,\"nonselection_glyph\":{\"id\":\"1037\"},\"view\":{\"id\":\"1039\"}},\"id\":\"1038\",\"type\":\"GlyphRenderer\"},{\"attributes\":{},\"id\":\"1043\",\"type\":\"AllLabels\"},{\"attributes\":{},\"id\":\"1022\",\"type\":\"WheelZoomTool\"},{\"attributes\":{\"overlay\":{\"id\":\"1027\"}},\"id\":\"1023\",\"type\":\"BoxZoomTool\"},{\"attributes\":{},\"id\":\"1014\",\"type\":\"BasicTicker\"},{\"attributes\":{},\"id\":\"1018\",\"type\":\"BasicTicker\"},{\"attributes\":{\"axis\":{\"id\":\"1013\"},\"ticker\":null},\"id\":\"1016\",\"type\":\"Grid\"},{\"attributes\":{},\"id\":\"1046\",\"type\":\"AllLabels\"},{\"attributes\":{\"axis\":{\"id\":\"1017\"},\"dimension\":1,\"ticker\":null},\"id\":\"1020\",\"type\":\"Grid\"},{\"attributes\":{},\"id\":\"1041\",\"type\":\"BasicTickFormatter\"},{\"attributes\":{\"bottom_units\":\"screen\",\"fill_alpha\":0.5,\"fill_color\":\"lightgrey\",\"left_units\":\"screen\",\"level\":\"overlay\",\"line_alpha\":1.0,\"line_color\":\"black\",\"line_dash\":[4,4],\"line_width\":2,\"right_units\":\"screen\",\"syncable\":false,\"top_units\":\"screen\"},\"id\":\"1027\",\"type\":\"BoxAnnotation\"},{\"attributes\":{\"formatter\":{\"id\":\"1044\"},\"major_label_policy\":{\"id\":\"1046\"},\"ticker\":{\"id\":\"1018\"}},\"id\":\"1017\",\"type\":\"LinearAxis\"},{\"attributes\":{},\"id\":\"1048\",\"type\":\"UnionRenderers\"},{\"attributes\":{\"source\":{\"id\":\"1035\"}},\"id\":\"1039\",\"type\":\"CDSView\"},{\"attributes\":{},\"id\":\"1049\",\"type\":\"Selection\"},{\"attributes\":{\"active_multi\":null,\"tools\":[{\"id\":\"1021\"},{\"id\":\"1022\"},{\"id\":\"1023\"},{\"id\":\"1024\"},{\"id\":\"1025\"},{\"id\":\"1026\"}]},\"id\":\"1028\",\"type\":\"Toolbar\"},{\"attributes\":{},\"id\":\"1021\",\"type\":\"PanTool\"},{\"attributes\":{},\"id\":\"1005\",\"type\":\"DataRange1d\"},{\"attributes\":{\"text\":\"Let's play!\"},\"id\":\"1003\",\"type\":\"Title\"},{\"attributes\":{},\"id\":\"1026\",\"type\":\"HelpTool\"},{\"attributes\":{},\"id\":\"1009\",\"type\":\"LinearScale\"},{\"attributes\":{\"line_alpha\":0.8,\"line_color\":\"#8888cc\",\"line_width\":1.5,\"x\":{\"field\":\"x\"},\"y\":{\"field\":\"y\"}},\"id\":\"1036\",\"type\":\"Line\"},{\"attributes\":{\"line_alpha\":0.1,\"line_color\":\"#8888cc\",\"line_width\":1.5,\"x\":{\"field\":\"x\"},\"y\":{\"field\":\"y\"}},\"id\":\"1037\",\"type\":\"Line\"},{\"attributes\":{},\"id\":\"1025\",\"type\":\"ResetTool\"},{\"attributes\":{\"end\":5,\"start\":-5},\"id\":\"1007\",\"type\":\"Range1d\"}],\"root_ids\":[\"1002\"]},\"title\":\"Bokeh Application\",\"version\":\"2.3.3\"}};\n",
              "  var render_items = [{\"docid\":\"8f9ef44c-a198-49ca-84b2-d6f0fb7c7e93\",\"notebook_comms_target\":\"1103\",\"root_ids\":[\"1002\"],\"roots\":{\"1002\":\"9e34fc20-5eac-44f8-88d7-309266662bef\"}}];\n",
              "  root.Bokeh.embed.embed_items_notebook(docs_json, render_items);\n",
              "\n",
              "  }\n",
              "  if (root.Bokeh !== undefined) {\n",
              "    embed_document(root);\n",
              "  } else {\n",
              "    var attempts = 0;\n",
              "    var timer = setInterval(function(root) {\n",
              "      if (root.Bokeh !== undefined) {\n",
              "        clearInterval(timer);\n",
              "        embed_document(root);\n",
              "      } else {\n",
              "        attempts++;\n",
              "        if (attempts > 100) {\n",
              "          clearInterval(timer);\n",
              "          console.log(\"Bokeh: ERROR: Unable to run BokehJS code because BokehJS library is missing\");\n",
              "        }\n",
              "      }\n",
              "    }, 10, root)\n",
              "  }\n",
              "})(window);"
            ],
            "application/vnd.bokehjs_exec.v0+json": ""
          },
          "metadata": {
            "application/vnd.bokehjs_exec.v0+json": {
              "id": "1002"
            }
          }
        },
        {
          "output_type": "display_data",
          "data": {
            "application/vnd.jupyter.widget-view+json": {
              "model_id": "8d210d9eddb24f23b3c23336e06ea48f",
              "version_minor": 0,
              "version_major": 2
            },
            "text/plain": [
              "interactive(children=(Dropdown(description='f', options=('sin', 'cos', 'tan', 'ln', 'exponent'), value='sin'),…"
            ]
          },
          "metadata": {}
        },
        {
          "output_type": "execute_result",
          "data": {
            "text/plain": [
              "<function __main__.update>"
            ]
          },
          "metadata": {},
          "execution_count": 5
        }
      ]
    },
    {
      "cell_type": "markdown",
      "metadata": {
        "id": "1j0zClof5IoQ"
      },
      "source": [
        "--------------------------------------------------------------\n",
        "\n",
        "### Class activity A (Use the widget above to explore)\n",
        "\n",
        "**Question 1**<br>\n",
        "Explain how the following functions can be obtained from $y=e^x$ by basic transformations:<br>\n",
        "* $y=e^{x}-1$\n",
        "* $y=-e^{x}+1$\n",
        "* $y=-e^{x-3}-2$\n",
        "\n",
        "**Question 2**<br>\n",
        "Explain how the following functions can be obtained from $y=ln(x)$ by basic transformations:<br>\n",
        "* $y=ln(x-1)$\n",
        "* $y=-ln(x)+1$\n",
        "* $y=ln(x+3)-1$\n"
      ]
    },
    {
      "cell_type": "markdown",
      "metadata": {
        "id": "pdewCk_m5IoQ"
      },
      "source": [
        "--------------------------------------------------------------------------------------------------\n",
        "## Transformations into Linear Functions\n",
        "\n",
        "Use logarithmic scale when you have data ranging very small to very large.\n",
        "\n",
        "Why we transform raw data into linear function? <br>\n",
        "Straight lines (or linear relationships) are easy to recognize visually. If transforming data results in data points lying along a straight line, we should do the transformation, because, as we will see, this will allow us to obtain a functional relationship between quantities."
      ]
    },
    {
      "cell_type": "code",
      "metadata": {
        "id": "ZF_4N2ay5IoQ"
      },
      "source": [
        "xx = np.array([-1, -0.5, 0, 0.5, 1])\n",
        "yy = np.array([0.398, 1.26, 4, 12.68, 40.18])"
      ],
      "execution_count": null,
      "outputs": []
    },
    {
      "cell_type": "markdown",
      "metadata": {
        "id": "-QsifnPj5IoR"
      },
      "source": [
        "Let us see how the raw data looks like."
      ]
    },
    {
      "cell_type": "code",
      "metadata": {
        "id": "hg5Mf1cJ5IoR",
        "outputId": "a968ffeb-1963-443e-aa84-6cdd952f79b1"
      },
      "source": [
        "import matplotlib.pyplot as plt\n",
        "plt.plot(xx,yy) # plot raw data\n",
        "plt.title('Raw data')\n",
        "plt.xlabel('x')\n",
        "plt.ylabel('y')"
      ],
      "execution_count": null,
      "outputs": [
        {
          "data": {
            "text/plain": [
              "Text(0, 0.5, 'y')"
            ]
          },
          "execution_count": 7,
          "metadata": {},
          "output_type": "execute_result"
        },
        {
          "data": {
            "image/png": "[encoded data removed]",
            "text/plain": [
              "<Figure size 432x288 with 1 Axes>"
            ]
          },
          "metadata": {
            "needs_background": "light"
          },
          "output_type": "display_data"
        }
      ]
    },
    {
      "cell_type": "markdown",
      "metadata": {
        "id": "mbojE_wD5IoR"
      },
      "source": [
        "Let us make attempts to represent the same data as linear plots.\n",
        "\n",
        "### log-linear plot or a semilog plot\n",
        "\n",
        "There are 2 types of semi log:\n",
        "* $x$-axis is on a logarithmic scale, or\n",
        "* $y$-axis is on a logarithmic scale"
      ]
    },
    {
      "cell_type": "code",
      "metadata": {
        "id": "hS11b_qN5IoS",
        "outputId": "42ff0bc9-0b22-4d76-de52-cfbb93dfb426"
      },
      "source": [
        "plt.semilogx(xx,yy)  #logarithm scale on x\n",
        "plt.title('Same raw data. We represent $x$ data in logarithmic scale.')\n",
        "plt.xlabel('log(x)')\n",
        "plt.ylabel('y')"
      ],
      "execution_count": null,
      "outputs": [
        {
          "data": {
            "text/plain": [
              "Text(0, 0.5, 'y')"
            ]
          },
          "execution_count": 8,
          "metadata": {},
          "output_type": "execute_result"
        },
        {
          "data": {
            "image/png": "[encoded data removed]",
            "text/plain": [
              "<Figure size 432x288 with 1 Axes>"
            ]
          },
          "metadata": {
            "needs_background": "light"
          },
          "output_type": "display_data"
        }
      ]
    },
    {
      "cell_type": "code",
      "metadata": {
        "id": "Enl3Tto-5IoS",
        "outputId": "50c84d29-329d-4ef9-b7a4-f14db3e4552d"
      },
      "source": [
        "plt.semilogy(xx,yy)  #logarithm scale on y\n",
        "plt.title('Same raw data. We represent $y$ data in logarithmic scale.')\n",
        "plt.xlabel('x')\n",
        "plt.ylabel('log(y)')"
      ],
      "execution_count": null,
      "outputs": [
        {
          "data": {
            "text/plain": [
              "Text(0, 0.5, 'log(y)')"
            ]
          },
          "execution_count": 9,
          "metadata": {},
          "output_type": "execute_result"
        },
        {
          "data": {
            "image/png": "[encoded data removed]",
            "text/plain": [
              "<Figure size 432x288 with 1 Axes>"
            ]
          },
          "metadata": {
            "needs_background": "light"
          },
          "output_type": "display_data"
        }
      ]
    },
    {
      "cell_type": "markdown",
      "metadata": {
        "id": "CvEN5IEY5IoS"
      },
      "source": [
        "### log-log plot or double-log plot"
      ]
    },
    {
      "cell_type": "code",
      "metadata": {
        "id": "3ZN232KS5IoT",
        "outputId": "523a93ce-2c4c-41ff-e0bf-da04b86967b2"
      },
      "source": [
        "plt.loglog(xx,yy)  #logarithm scale on both x and y\n",
        "plt.title('Same raw data. We represent $x, y$ data in logarithmic scales.')\n",
        "plt.xlabel('log(x)')\n",
        "plt.ylabel('log(y)')"
      ],
      "execution_count": null,
      "outputs": [
        {
          "data": {
            "text/plain": [
              "Text(0, 0.5, 'log(y)')"
            ]
          },
          "execution_count": 10,
          "metadata": {},
          "output_type": "execute_result"
        },
        {
          "data": {
            "image/png": "[encoded data removed]",
            "text/plain": [
              "<Figure size 432x288 with 1 Axes>"
            ]
          },
          "metadata": {
            "needs_background": "light"
          },
          "output_type": "display_data"
        }
      ]
    },
    {
      "cell_type": "markdown",
      "metadata": {
        "id": "r3r806Zt5IoT"
      },
      "source": [
        "For this data, the right transformation to get a straight line is semilog on $y-$axis.\n",
        "\n",
        "--------------------------------------------------------------------------------------------\n",
        "\n",
        "### Class activity B (use the code below to explore)"
      ]
    },
    {
      "cell_type": "markdown",
      "metadata": {
        "id": "4gPtCgb_5IoT"
      },
      "source": [
        "The following table is based on a functional relationship\n",
        "between x and y that is either an exponential or a power function. Use all logarithmic transformation and graphing to decide which one is the most appropriate.\n",
        "\n",
        "**Questions 3** <br>\n",
        "\n",
        "| $x$ | 0.5 | 1  | 1.5  |  2 |  2.5 |\n",
        "|---|---|---|---|---|---|\n",
        "| $y$ | 7.81 | 3.4  |  2.09 | 1.48  | 1.13  |\n",
        "\n",
        "**Questions 4** <br>\n",
        "\n",
        "| $x$ | 0.1 | 0.5  | 1  | 1.5  | 2  |\n",
        "|---|---|---|---|---|---|\n",
        "| $y$ | 0.045 | 1.33  | 5.7  | 13.36  | 24.44  |\n",
        "\n",
        "**Questions 5** <br>\n",
        "\n",
        "| $x$ | 1 | 2  | 4  | 10  | 20  |\n",
        "|---|---|---|---|---|---|\n",
        "| $y$ | 1.8 | 2.07  | 2.38  | 2.85  | 3.28  |\n",
        "\n",
        "Tips: Key-in the data in the code below to see the plots."
      ]
    },
    {
      "cell_type": "code",
      "metadata": {
        "id": "uwkg3tYc5IoT"
      },
      "source": [
        "xxx = np.array([x1, x2, x3, x4, x5])  # insert your x points here\n",
        "yyy = np.array([y1, y2, y3, y4, y5])  # insert your y points here\n",
        "\n",
        "\n",
        "\n",
        "fig, (ax1, ax2, ax3) = plt.subplots(1, 3, figsize=(15,5))\n",
        "ax1.semilogx(xxx,yyy)  #logarithm scale on x\n",
        "ax1.set_title(\"semilog x\")\n",
        "ax2.semilogy(xxx,yyy)  #logarithm scale on y\n",
        "ax2.set_title(\"semilog y\")\n",
        "ax3.loglog(xxx,yyy)  #logarithm scale on both x and y\n",
        "ax3.set_title(\"double log\")"
      ],
      "execution_count": null,
      "outputs": []
    }
  ]
}